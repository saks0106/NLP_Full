{
  "nbformat": 4,
  "nbformat_minor": 0,
  "metadata": {
    "colab": {
      "provenance": [],
      "include_colab_link": true
    },
    "kernelspec": {
      "name": "python3",
      "display_name": "Python 3"
    },
    "language_info": {
      "name": "python"
    }
  },
  "cells": [
    {
      "cell_type": "markdown",
      "metadata": {
        "id": "view-in-github",
        "colab_type": "text"
      },
      "source": [
        "<a href=\"https://colab.research.google.com/github/saks0106/DL_Frequent_Lookout/blob/main/0.0.2.Spacy.ipynb\" target=\"_parent\"><img src=\"https://colab.research.google.com/assets/colab-badge.svg\" alt=\"Open In Colab\"/></a>"
      ]
    },
    {
      "cell_type": "code",
      "execution_count": null,
      "metadata": {
        "id": "m0BVi2Z5SXMq"
      },
      "outputs": [],
      "source": [
        "!pip install spacy"
      ]
    },
    {
      "cell_type": "code",
      "source": [
        "import spacy\n",
        "nlp = spacy.load('en_core_web_sm') # en_core_web_md"
      ],
      "metadata": {
        "id": "qXVxkLU3S2bL"
      },
      "execution_count": 2,
      "outputs": []
    },
    {
      "cell_type": "code",
      "source": [
        "text = \"\"\"\n",
        "This is one of the greatest films ever made. Brilliant acting by George C. Scott and Diane Riggs.\n",
        "This movie is both disturbing and extremely deep. Don't be fooled into believing this is just a comedy.\n",
        "It is a brilliant satire about the medical profession. It is not a pretty picture.\n",
        " Healthy patients are killed by incompetent surgeons, who spend all their time making money outside the hospital.\n",
        " And yet, you really believe that this is a hospital.\n",
        " The producers were very careful to include real medical terminology and real medical cases.\n",
        " This movie really reveals how difficult in is to run a hospital, and how badly things already were in 1971.\n",
        " I loved this movie. P.S. - I noticed that the incompetent, wheeler dealer surgeon played the head of the firm in\n",
        " LA Law. The young doctor played in Lou Grant.\n",
        " I also noticed that the registration nurse has appeared since in Becker and other shows.\n",
        "\"\"\""
      ],
      "metadata": {
        "id": "pqxrIa0tTLUG"
      },
      "execution_count": 3,
      "outputs": []
    },
    {
      "cell_type": "code",
      "source": [
        "doc = nlp(text) # tagger, parser, NER\n",
        "print(dir(doc))"
      ],
      "metadata": {
        "colab": {
          "base_uri": "https://localhost:8080/"
        },
        "id": "QzpN702ATYAi",
        "outputId": "ad789eed-9b19-406c-8802-15c97fb76f47"
      },
      "execution_count": 4,
      "outputs": [
        {
          "output_type": "stream",
          "name": "stdout",
          "text": [
            "['_', '__bytes__', '__class__', '__delattr__', '__dir__', '__doc__', '__eq__', '__format__', '__ge__', '__getattribute__', '__getitem__', '__gt__', '__hash__', '__init__', '__init_subclass__', '__iter__', '__le__', '__len__', '__lt__', '__ne__', '__new__', '__pyx_vtable__', '__reduce__', '__reduce_ex__', '__repr__', '__setattr__', '__setstate__', '__sizeof__', '__str__', '__subclasshook__', '__unicode__', '_bulk_merge', '_context', '_get_array_attrs', '_realloc', '_vector', '_vector_norm', 'cats', 'char_span', 'copy', 'count_by', 'doc', 'ents', 'extend_tensor', 'from_array', 'from_bytes', 'from_dict', 'from_disk', 'from_docs', 'from_json', 'get_extension', 'get_lca_matrix', 'has_annotation', 'has_extension', 'has_unknown_spaces', 'has_vector', 'is_nered', 'is_parsed', 'is_sentenced', 'is_tagged', 'lang', 'lang_', 'mem', 'noun_chunks', 'noun_chunks_iterator', 'remove_extension', 'retokenize', 'sentiment', 'sents', 'set_ents', 'set_extension', 'similarity', 'spans', 'tensor', 'text', 'text_with_ws', 'to_array', 'to_bytes', 'to_dict', 'to_disk', 'to_json', 'to_utf8_array', 'user_data', 'user_hooks', 'user_span_hooks', 'user_token_hooks', 'vector', 'vector_norm', 'vocab']\n"
          ]
        }
      ]
    },
    {
      "cell_type": "code",
      "source": [
        "from IPython.core.display import display, HTML\n",
        "# SpaCy pipeline\n",
        "spacy_url = 'https://spacy.io/pipeline-7a14d4edd18f3edfee8f34393bff2992.svg'\n",
        "iframe = '<iframe src={} width=1000 height=200></iframe>'.format(spacy_url)\n",
        "HTML(iframe)"
      ],
      "metadata": {
        "colab": {
          "base_uri": "https://localhost:8080/",
          "height": 260
        },
        "id": "nkbY7p0RTd-a",
        "outputId": "63c15f9a-13a6-411e-c35b-84793f31179c"
      },
      "execution_count": 5,
      "outputs": [
        {
          "output_type": "stream",
          "name": "stderr",
          "text": [
            "/usr/local/lib/python3.10/dist-packages/IPython/core/display.py:724: UserWarning: Consider using IPython.display.IFrame instead\n",
            "  warnings.warn(\"Consider using IPython.display.IFrame instead\")\n"
          ]
        },
        {
          "output_type": "execute_result",
          "data": {
            "text/plain": [
              "<IPython.core.display.HTML object>"
            ],
            "text/html": [
              "<iframe src=https://spacy.io/pipeline-7a14d4edd18f3edfee8f34393bff2992.svg width=1000 height=200></iframe>"
            ]
          },
          "metadata": {},
          "execution_count": 5
        }
      ]
    },
    {
      "cell_type": "markdown",
      "source": [
        "# Tokenizor"
      ],
      "metadata": {
        "id": "t53XUWjMT066"
      }
    },
    {
      "cell_type": "code",
      "source": [
        "# SpaCy pipeline\n",
        "spacy_url = 'https://spacy.io/tokenization-57e618bd79d933c4ccd308b5739062d6.svg'\n",
        "iframe = '<iframe src={} width=1500 height=200></iframe>'.format(spacy_url)\n",
        "HTML(iframe)"
      ],
      "metadata": {
        "colab": {
          "base_uri": "https://localhost:8080/",
          "height": 245
        },
        "id": "h0sh0ePaTtxP",
        "outputId": "d8c50276-5c4f-43a7-bf8c-01c2218ed991"
      },
      "execution_count": 6,
      "outputs": [
        {
          "output_type": "execute_result",
          "data": {
            "text/plain": [
              "<IPython.core.display.HTML object>"
            ],
            "text/html": [
              "<iframe src=https://spacy.io/tokenization-57e618bd79d933c4ccd308b5739062d6.svg width=1500 height=200></iframe>"
            ]
          },
          "metadata": {},
          "execution_count": 6
        }
      ]
    },
    {
      "cell_type": "code",
      "source": [
        "text = \"This is one of the greatest movie. I loved It\"\n",
        "doc = nlp(text)\n",
        "\n",
        "# print column headers\n",
        "print('{:15} | {:15} | {:8} | {:8} | {:11} | {:8} | {:8} | {:8} | '.format('TEXT','LEMMA_','POS_','TAG_','DEP_','SHAPE_','IS_ALPHA','IS_STOP'))\n",
        "\n",
        "for token in doc:\n",
        "  print('{:15} | {:15} | {:8} | {:8} | {:11} | {:8} | {:8} | {:8} |'.format(token.text, token.lemma_, token.pos_, token.tag_, token.dep_, token.shape_, token.is_alpha, token.is_stop))"
      ],
      "metadata": {
        "colab": {
          "base_uri": "https://localhost:8080/"
        },
        "id": "SnMp6cpdT6aQ",
        "outputId": "c0de1689-6136-409e-cb30-93c5bf7f373c"
      },
      "execution_count": 7,
      "outputs": [
        {
          "output_type": "stream",
          "name": "stdout",
          "text": [
            "TEXT            | LEMMA_          | POS_     | TAG_     | DEP_        | SHAPE_   | IS_ALPHA | IS_STOP  | \n",
            "This            | this            | PRON     | DT       | nsubj       | Xxxx     |        1 |        1 |\n",
            "is              | be              | AUX      | VBZ      | ROOT        | xx       |        1 |        1 |\n",
            "one             | one             | NUM      | CD       | attr        | xxx      |        1 |        1 |\n",
            "of              | of              | ADP      | IN       | prep        | xx       |        1 |        1 |\n",
            "the             | the             | DET      | DT       | det         | xxx      |        1 |        1 |\n",
            "greatest        | great           | ADJ      | JJS      | amod        | xxxx     |        1 |        0 |\n",
            "movie           | movie           | NOUN     | NN       | pobj        | xxxx     |        1 |        0 |\n",
            ".               | .               | PUNCT    | .        | punct       | .        |        0 |        0 |\n",
            "I               | I               | PRON     | PRP      | nsubj       | X        |        1 |        1 |\n",
            "loved           | love            | VERB     | VBD      | ROOT        | xxxx     |        1 |        0 |\n",
            "It              | it              | PRON     | PRP      | dobj        | Xx       |        1 |        1 |\n"
          ]
        }
      ]
    },
    {
      "cell_type": "code",
      "source": [
        "spacy.explain('nsubj')"
      ],
      "metadata": {
        "colab": {
          "base_uri": "https://localhost:8080/",
          "height": 35
        },
        "id": "dpcs7uwFUbqv",
        "outputId": "a541807c-555e-4d21-9a5e-4e8e5021ecde"
      },
      "execution_count": 8,
      "outputs": [
        {
          "output_type": "execute_result",
          "data": {
            "text/plain": [
              "'nominal subject'"
            ],
            "application/vnd.google.colaboratory.intrinsic+json": {
              "type": "string"
            }
          },
          "metadata": {},
          "execution_count": 8
        }
      ]
    },
    {
      "cell_type": "code",
      "source": [
        "spacy.explain('AUX')"
      ],
      "metadata": {
        "colab": {
          "base_uri": "https://localhost:8080/",
          "height": 35
        },
        "id": "xJkxK_MiUtvw",
        "outputId": "d4d9761d-f170-48c1-e097-997b47047767"
      },
      "execution_count": 9,
      "outputs": [
        {
          "output_type": "execute_result",
          "data": {
            "text/plain": [
              "'auxiliary'"
            ],
            "application/vnd.google.colaboratory.intrinsic+json": {
              "type": "string"
            }
          },
          "metadata": {},
          "execution_count": 9
        }
      ]
    },
    {
      "cell_type": "code",
      "source": [
        "previous_token = doc[0]  # set first token\n",
        "\n",
        "for token in doc[1:]:\n",
        "    # identify adjective noun pairs\n",
        "    if previous_token.pos_ == 'ADJ' and token.pos_ == 'NOUN':\n",
        "        print(f'{previous_token.text}_{token.text}')\n",
        "\n",
        "    previous_token = token"
      ],
      "metadata": {
        "colab": {
          "base_uri": "https://localhost:8080/"
        },
        "id": "af-10OxRUyJ4",
        "outputId": "9acae3bb-d3ed-4113-a7e8-aef5b721d72b"
      },
      "execution_count": 10,
      "outputs": [
        {
          "output_type": "stream",
          "name": "stdout",
          "text": [
            "greatest_movie\n"
          ]
        }
      ]
    },
    {
      "cell_type": "code",
      "source": [
        "ner_text = \"I love my country India, and I love Machine learning\"\n",
        "\n",
        "ner_doc = nlp(ner_text)\n",
        "print('{:10} | {:15}'.format('LABEL','ENTITY'))\n",
        "\n",
        "for ent in ner_doc.ents:\n",
        "    print('{:10} | {:90}'.format(ent.label_, ent.text))"
      ],
      "metadata": {
        "colab": {
          "base_uri": "https://localhost:8080/"
        },
        "id": "bw02AdChVL6V",
        "outputId": "61f9305c-2910-44e9-9bca-6733c648f680"
      },
      "execution_count": 15,
      "outputs": [
        {
          "output_type": "stream",
          "name": "stdout",
          "text": [
            "LABEL      | ENTITY         \n",
            "GPE        | India                                                                                     \n"
          ]
        }
      ]
    },
    {
      "cell_type": "code",
      "source": [
        "from spacy import displacy"
      ],
      "metadata": {
        "id": "gPJdmkj0Vjl-"
      },
      "execution_count": 12,
      "outputs": []
    },
    {
      "cell_type": "code",
      "source": [
        "displacy.render(docs=ner_doc, style='ent', jupyter=True)"
      ],
      "metadata": {
        "colab": {
          "base_uri": "https://localhost:8080/",
          "height": 52
        },
        "id": "YoSXmVfWVs4S",
        "outputId": "c14cb4b0-9a2b-41a3-a28f-f5e7ce844dd2"
      },
      "execution_count": 13,
      "outputs": [
        {
          "output_type": "display_data",
          "data": {
            "text/plain": [
              "<IPython.core.display.HTML object>"
            ],
            "text/html": [
              "<span class=\"tex2jax_ignore\"><div class=\"entities\" style=\"line-height: 2.5; direction: ltr\">I love my country \n",
              "<mark class=\"entity\" style=\"background: #feca74; padding: 0.45em 0.6em; margin: 0 0.25em; line-height: 1; border-radius: 0.35em;\">\n",
              "    India\n",
              "    <span style=\"font-size: 0.8em; font-weight: bold; line-height: 1; border-radius: 0.35em; vertical-align: middle; margin-left: 0.5rem\">GPE</span>\n",
              "</mark>\n",
              ", and I love Machine learning</div></span>"
            ]
          },
          "metadata": {}
        }
      ]
    },
    {
      "cell_type": "code",
      "source": [
        "spacy.explain('GPE')"
      ],
      "metadata": {
        "colab": {
          "base_uri": "https://localhost:8080/",
          "height": 35
        },
        "id": "frs0kGAHVyKf",
        "outputId": "f8af6813-415e-45a5-ac4a-ae75c567709e"
      },
      "execution_count": 14,
      "outputs": [
        {
          "output_type": "execute_result",
          "data": {
            "text/plain": [
              "'Countries, cities, states'"
            ],
            "application/vnd.google.colaboratory.intrinsic+json": {
              "type": "string"
            }
          },
          "metadata": {},
          "execution_count": 14
        }
      ]
    },
    {
      "cell_type": "code",
      "source": [],
      "metadata": {
        "id": "HGwwCq5oV4vO"
      },
      "execution_count": 14,
      "outputs": []
    }
  ]
}