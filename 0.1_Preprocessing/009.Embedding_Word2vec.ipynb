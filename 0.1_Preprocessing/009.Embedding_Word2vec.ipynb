{
  "nbformat": 4,
  "nbformat_minor": 0,
  "metadata": {
    "colab": {
      "provenance": []
    },
    "kernelspec": {
      "name": "python3",
      "display_name": "Python 3"
    },
    "language_info": {
      "name": "python"
    }
  },
  "cells": [
    {
      "cell_type": "markdown",
      "source": [
        "2 types of Word Embedding - Word2Vec, Glove\n",
        "\n",
        "Word Embedding- \n",
        "\n",
        "How to represent words in vector form such that 2 vectors close to each other represent 2 similar words using vectors. OHE for every single word not possible.\n",
        "\n",
        "Man will have 0.789\n",
        "Woman will have 0.787\n",
        "Gender will have 0.700\n",
        "Such maxtrix which shows link between 2 vectors is called Feature Representation Word Embedding\n",
        "\n",
        "In BOW and TF-IDF, we lose semantic info ie its actual meaning as it deals only with counting of words and how many times repeation happens. So we use Word Embedding\n",
        "\n",
        "But In Word2Vec, we focus on local words surrounding the word and not the entire corpus. If King in 1st sentence, royal after 1000 words, Word2Vec fails to predict here. Solution is Glove(Global Vectors) which uses global corpus\n",
        "\n",
        "GloVe constructs an explict word-context or word co-occrance matrix across entire corpus of words and results in better embedding. \n",
        "\n",
        "In GloVe, 'solid' and 'ice' is close then 'steam' but 'gas' is close to 'steam'"
      ],
      "metadata": {
        "id": "0lwkh8V5rSMw"
      }
    },
    {
      "cell_type": "markdown",
      "source": [
        "#**Word2vec**"
      ],
      "metadata": {
        "id": "B4h0uH6IY7B2"
      }
    },
    {
      "cell_type": "code",
      "execution_count": null,
      "metadata": {
        "colab": {
          "base_uri": "https://localhost:8080/"
        },
        "id": "zns-P9jrMxGh",
        "outputId": "db829ef0-14b2-4f83-82f9-aa0f9be2e92c"
      },
      "outputs": [
        {
          "output_type": "stream",
          "name": "stderr",
          "text": [
            "[nltk_data] Downloading package punkt to /root/nltk_data...\n",
            "[nltk_data]   Package punkt is already up-to-date!\n",
            "[nltk_data] Downloading package stopwords to /root/nltk_data...\n",
            "[nltk_data]   Package stopwords is already up-to-date!\n"
          ]
        }
      ],
      "source": [
        "import nltk\n",
        "nltk.download('punkt')\n",
        "nltk.download('stopwords')\n",
        "\n",
        "from gensim.models import Word2Vec\n",
        "from nltk.corpus import stopwords\n",
        "\n",
        "import re\n",
        "\n",
        "paragraph = \"\"\"I have three visions for India. In 3000 years of our history, people from all over \n",
        "               the world have come and invaded us, captured our lands, conquered our minds. \n",
        "               From Alexander onwards, the Greeks, the Turks, the Moguls, the Portuguese, the British,\n",
        "               the French, the Dutch, all of them came and looted us, took over what was ours. \n",
        "               Yet we have not done this to any other nation. We have not conquered anyone. \n",
        "               We have not grabbed their land, their culture, \n",
        "               their history and tried to enforce our way of life on them. \n",
        "               Why? Because we respect the freedom of others.That is why my \n",
        "               first vision is that of freedom. I believe that India got its first vision of \n",
        "               this in 1857, when we started the War of Independence. It is this freedom that\n",
        "               we must protect and nurture and build on. If we are not free, no one will respect us.\n",
        "               My second vision for India’s development. For fifty years we have been a developing nation.\n",
        "               It is time we see ourselves as a developed nation. We are among the top 5 nations of the world\n",
        "               in terms of GDP. We have a 10 percent growth rate in most areas. Our poverty levels are falling.\n",
        "               Our achievements are being globally recognised today. Yet we lack the self-confidence to\n",
        "               see ourselves as a developed nation, self-reliant and self-assured. Isn’t this incorrect?\n",
        "               I have a third vision. India must stand up to the world. Because I believe that unless India \n",
        "               stands up to the world, no one will respect us. Only strength respects strength. We must be \n",
        "               strong not only as a military power but also as an economic power. Both must go hand-in-hand. \n",
        "               My good fortune was to have worked with three great minds. Dr. Vikram Sarabhai of the Dept. of \n",
        "               space, Professor Satish Dhawan, who succeeded him and Dr. Brahm Prakash, father of nuclear material.\n",
        "               I was lucky to have worked with all three of them closely and consider this the great opportunity of my life. \n",
        "               I see four milestones in my career\"\"\"\n",
        "\n",
        "\n",
        "\n",
        "# Pre-processing the data\n",
        "text = re.sub(r'\\[[0-9]*\\]',' ',paragraph) # removing numbers\n",
        "text = re.sub(r'\\s+',' ',text) # special char and extra spaces\n",
        "text = text.lower()\n",
        "text = re.sub(r'\\d',' ',text) \n",
        "text = re.sub(r'\\s+',' ',text)\n",
        "\n",
        "# Preparing the dataset\n",
        "sentences = nltk.sent_tokenize(text) # can skip\n",
        "\n",
        "sentences = [nltk.word_tokenize(sentence) for sentence in sentences]\n",
        "\n",
        "for i in range(len(sentences)):\n",
        "    sentences[i] = [word for word in sentences[i] if word not in stopwords.words('english')]\n",
        "    \n",
        "    \n",
        "# Training the Word2Vec model\n",
        "model = Word2Vec(sentences, min_count=1) # if min count of word is < 1 then drop the word"
      ]
    },
    {
      "cell_type": "code",
      "source": [
        "vectors = model.wv.vectors # will give word embedding, wv-word vector\n",
        "print(vectors)\n",
        "\n",
        "\n",
        "# keys = model.wv.vocab.keys() # actual individual words\n",
        "# # print(keys)\n",
        "\n",
        "# for i,j in zip(keys,vectors):\n",
        "#   print(i,':',j) # three on 1st column and corresponding numbers are its features(rows)"
      ],
      "metadata": {
        "colab": {
          "base_uri": "https://localhost:8080/"
        },
        "id": "JlPk-KISM3ei",
        "outputId": "d7aed028-d3db-4659-983f-204d2f404462"
      },
      "execution_count": null,
      "outputs": [
        {
          "output_type": "stream",
          "name": "stdout",
          "text": [
            "[[-5.4059294e-04  2.8702759e-04  5.1420662e-03 ... -7.0635420e-03\n",
            "   8.9675700e-04  6.3677533e-03]\n",
            " [-8.5940203e-03  3.7575022e-03  5.2502500e-03 ... -2.3534715e-03\n",
            "  -9.5351199e-03  4.3793255e-03]\n",
            " [ 9.4292649e-05  3.0885313e-03 -6.8086283e-03 ...  5.1787484e-04\n",
            "   8.2049835e-03 -7.0299525e-03]\n",
            " ...\n",
            " [ 8.7977471e-03 -2.2702930e-03  4.3723010e-03 ...  6.2255617e-03\n",
            "  -2.4047238e-03  9.0513807e-03]\n",
            " [-8.3833700e-03  7.9898397e-03  6.4259679e-03 ... -7.4522272e-03\n",
            "   6.8071601e-03  5.6472314e-03]\n",
            " [-5.6387754e-03  3.8240075e-03  1.2600153e-03 ...  9.5440540e-03\n",
            "  -9.7728651e-03 -8.9434078e-03]]\n"
          ]
        }
      ]
    },
    {
      "cell_type": "code",
      "source": [
        "vector = model.wv['dutch']\n",
        "vector"
      ],
      "metadata": {
        "colab": {
          "base_uri": "https://localhost:8080/"
        },
        "id": "jN0ZA78yQBD7",
        "outputId": "f6207be0-58dd-4000-83b3-c7a679e4cb6e"
      },
      "execution_count": null,
      "outputs": [
        {
          "output_type": "execute_result",
          "data": {
            "text/plain": [
              "array([ 1.1474404e-03,  6.1967769e-03, -6.5785618e-03,  6.5484634e-03,\n",
              "        9.8149898e-03,  3.6028207e-03,  3.4593630e-03,  4.2726416e-03,\n",
              "       -1.9831865e-03, -8.1459144e-03,  1.4639996e-03,  8.5256476e-04,\n",
              "       -6.8098814e-03,  2.0000807e-03,  5.4872776e-03, -7.1770088e-03,\n",
              "        2.5036207e-03,  7.7639390e-03, -8.6506344e-03,  3.4505632e-03,\n",
              "       -8.5237846e-03, -7.9418756e-03,  7.1275802e-03, -7.6128142e-03,\n",
              "       -1.4060525e-03, -7.9396321e-03, -7.9229940e-03, -7.0795487e-03,\n",
              "        4.1258970e-04,  1.7904754e-03, -7.8827441e-03, -8.0592670e-03,\n",
              "       -3.1424868e-03, -1.8687387e-03, -6.1731865e-03, -4.2188377e-03,\n",
              "        3.6097805e-03,  3.0773771e-03,  6.5994258e-03,  4.2274855e-03,\n",
              "       -8.5819495e-04,  2.7486631e-03,  9.0518063e-03,  1.9362376e-03,\n",
              "        1.8286335e-03,  1.1452384e-03, -9.3262047e-03,  5.3621479e-03,\n",
              "        5.0481204e-03,  6.7343812e-05,  9.2613176e-03, -5.7564662e-03,\n",
              "        3.2835314e-03, -7.8469701e-03, -8.9222025e-03,  2.0596464e-03,\n",
              "        4.7598593e-03,  6.1176415e-03, -8.7135807e-03,  4.3653226e-03,\n",
              "        2.3957542e-03,  4.1404683e-03, -6.8960100e-04,  5.5720219e-03,\n",
              "        7.2557339e-03, -8.3338795e-03, -9.9236378e-03,  7.0705987e-03,\n",
              "       -9.6209435e-04, -9.3449885e-03, -4.1097761e-03,  1.1666842e-03,\n",
              "        8.4867999e-03, -1.6791127e-03, -9.9233072e-04, -7.3749279e-03,\n",
              "       -7.6306988e-03,  1.4436761e-03, -4.6641831e-04, -7.7158664e-03,\n",
              "        8.4326399e-04, -8.9471797e-03, -2.5340847e-03,  4.2415536e-03,\n",
              "        1.1097601e-03,  7.8424672e-03,  6.6333772e-03, -1.1726919e-03,\n",
              "        4.9841478e-03,  6.1315694e-03,  8.7896856e-03,  9.0818107e-03,\n",
              "        4.8872158e-03,  4.6161083e-03,  7.2343522e-03, -1.5292619e-03,\n",
              "       -5.6787496e-03,  8.8861026e-03,  1.2003639e-03, -5.0866231e-03],\n",
              "      dtype=float32)"
            ]
          },
          "metadata": {},
          "execution_count": 7
        }
      ]
    },
    {
      "cell_type": "code",
      "source": [
        "# Most similar words\n",
        "similar = model.wv.most_similar('war')\n",
        "similar"
      ],
      "metadata": {
        "colab": {
          "base_uri": "https://localhost:8080/"
        },
        "id": "Op7BvOi4P84r",
        "outputId": "744b6f37-95fb-449a-8246-ca36faa4e84f"
      },
      "execution_count": null,
      "outputs": [
        {
          "output_type": "execute_result",
          "data": {
            "text/plain": [
              "[('rate', 0.1720738261938095),\n",
              " ('’', 0.15882465243339539),\n",
              " ('professor', 0.15752416849136353),\n",
              " ('material', 0.1459617018699646),\n",
              " ('great', 0.14304539561271667),\n",
              " ('unless', 0.14020974934101105),\n",
              " ('us', 0.12788502871990204),\n",
              " ('looted', 0.12448824942111969),\n",
              " ('self-reliant', 0.1218823567032814),\n",
              " ('worked', 0.11109071969985962)]"
            ]
          },
          "metadata": {},
          "execution_count": 8
        }
      ]
    },
    {
      "cell_type": "code",
      "source": [
        "#Word Embedding\n",
        "#We specify the dims for a word in embedding layer. Many such embedding layer will form Features Representation"
      ],
      "metadata": {
        "id": "LJhPCvuy0uJ5"
      },
      "execution_count": 1,
      "outputs": []
    },
    {
      "cell_type": "markdown",
      "source": [
        "Word Embedding Techniques using Embedding Layer in Keras"
      ],
      "metadata": {
        "id": "wRGVtaZW1jwW"
      }
    },
    {
      "cell_type": "code",
      "source": [
        "##tensorflow >2.0\n",
        "from tensorflow.keras.preprocessing.text import one_hot"
      ],
      "metadata": {
        "id": "iE9-dmSn1kgC"
      },
      "execution_count": 2,
      "outputs": []
    },
    {
      "cell_type": "code",
      "source": [
        "### sentences\n",
        "sent=[  'the glass of milk',\n",
        "     'the glass of juice',\n",
        "     'the cup of tea',\n",
        "    'I am a good boy',\n",
        "     'I am a good developer',\n",
        "     'understand the meaning of words',\n",
        "     'your videos are good',]"
      ],
      "metadata": {
        "id": "Lo0BbBM92B5k"
      },
      "execution_count": 3,
      "outputs": []
    },
    {
      "cell_type": "code",
      "source": [
        "### Vocabulary size\n",
        "voc_size=10000"
      ],
      "metadata": {
        "id": "Ys7uLX6D2FbZ"
      },
      "execution_count": 4,
      "outputs": []
    },
    {
      "cell_type": "markdown",
      "source": [
        "One Hot Representation"
      ],
      "metadata": {
        "id": "QqNwu4ea2LhR"
      }
    },
    {
      "cell_type": "code",
      "source": [
        "onehot_repr=[one_hot(words,voc_size)for words in sent]  # based on words and vocab size, OHE will give index size\n",
        "print(onehot_repr)"
      ],
      "metadata": {
        "colab": {
          "base_uri": "https://localhost:8080/"
        },
        "id": "QAZirrBW2HkA",
        "outputId": "270a6ae8-b848-490b-9c31-f137e49a7bd6"
      },
      "execution_count": 5,
      "outputs": [
        {
          "output_type": "stream",
          "name": "stdout",
          "text": [
            "[[4092, 6735, 2781, 688], [4092, 6735, 2781, 4933], [4092, 9716, 2781, 8712], [5826, 2161, 5522, 1055, 7949], [5826, 2161, 5522, 1055, 1764], [1161, 4092, 6566, 2781, 7940], [6437, 6653, 4364, 1055]]\n"
          ]
        }
      ]
    },
    {
      "cell_type": "markdown",
      "source": [
        "Passing OHE into Word Embedding Represntation"
      ],
      "metadata": {
        "id": "_WsLj6672Quw"
      }
    },
    {
      "cell_type": "code",
      "source": [
        "from tensorflow.keras.layers import Embedding\n",
        "from tensorflow.keras.preprocessing.sequence import pad_sequences #to match sentence length in embedding layer\n",
        "from tensorflow.keras.models import Sequential\n",
        "import numpy as np"
      ],
      "metadata": {
        "id": "d4wpERDy2lEm"
      },
      "execution_count": 15,
      "outputs": []
    },
    {
      "cell_type": "code",
      "source": [
        "sent_length=8 #max sentence length\n",
        "embedded_docs=pad_sequences(onehot_repr,padding='pre',maxlen=sent_length) #pre is add zeros before to match 8 words sentence, change to 'post'\n",
        "print(embedded_docs)"
      ],
      "metadata": {
        "colab": {
          "base_uri": "https://localhost:8080/"
        },
        "id": "IZlhtaml2nbn",
        "outputId": "f2380a60-abd8-450c-c117-3ea080630ccb"
      },
      "execution_count": 16,
      "outputs": [
        {
          "output_type": "stream",
          "name": "stdout",
          "text": [
            "[[   0    0    0    0 4092 6735 2781  688]\n",
            " [   0    0    0    0 4092 6735 2781 4933]\n",
            " [   0    0    0    0 4092 9716 2781 8712]\n",
            " [   0    0    0 5826 2161 5522 1055 7949]\n",
            " [   0    0    0 5826 2161 5522 1055 1764]\n",
            " [   0    0    0 1161 4092 6566 2781 7940]\n",
            " [   0    0    0    0 6437 6653 4364 1055]]\n"
          ]
        }
      ]
    },
    {
      "cell_type": "code",
      "source": [
        "dim=10"
      ],
      "metadata": {
        "id": "1ZmXpIsO2q__"
      },
      "execution_count": 17,
      "outputs": []
    },
    {
      "cell_type": "code",
      "source": [
        "model=Sequential()\n",
        "model.add(Embedding(voc_size,10,input_length=sent_length)) # Feature Representation of Words\n",
        "model.compile('adam','mse')"
      ],
      "metadata": {
        "id": "QFrBfYiP2ssb"
      },
      "execution_count": 19,
      "outputs": []
    },
    {
      "cell_type": "code",
      "source": [
        "model.summary()"
      ],
      "metadata": {
        "colab": {
          "base_uri": "https://localhost:8080/"
        },
        "id": "R0o3APkw2uIU",
        "outputId": "efa6b77b-90c6-4801-8991-8cfb01d5d025"
      },
      "execution_count": 20,
      "outputs": [
        {
          "output_type": "stream",
          "name": "stdout",
          "text": [
            "Model: \"sequential_2\"\n",
            "_________________________________________________________________\n",
            " Layer (type)                Output Shape              Param #   \n",
            "=================================================================\n",
            " embedding_2 (Embedding)     (None, 8, 10)             100000    \n",
            "                                                                 \n",
            "=================================================================\n",
            "Total params: 100,000\n",
            "Trainable params: 100,000\n",
            "Non-trainable params: 0\n",
            "_________________________________________________________________\n"
          ]
        }
      ]
    },
    {
      "cell_type": "code",
      "source": [
        "print(model.predict(embedded_docs))"
      ],
      "metadata": {
        "colab": {
          "base_uri": "https://localhost:8080/"
        },
        "id": "f2CTgeu82vzM",
        "outputId": "3af7f763-359c-4a1d-8e36-ba5469ee277a"
      },
      "execution_count": 12,
      "outputs": [
        {
          "output_type": "stream",
          "name": "stdout",
          "text": [
            "1/1 [==============================] - 0s 118ms/step\n",
            "[[[ 8.64313915e-03 -7.54658133e-03  3.85131948e-02  3.91105562e-03\n",
            "   -3.71877924e-02  4.68277223e-02 -1.95779689e-02  4.62418534e-02\n",
            "    2.24379040e-02 -3.06661017e-02]\n",
            "  [ 8.64313915e-03 -7.54658133e-03  3.85131948e-02  3.91105562e-03\n",
            "   -3.71877924e-02  4.68277223e-02 -1.95779689e-02  4.62418534e-02\n",
            "    2.24379040e-02 -3.06661017e-02]\n",
            "  [ 8.64313915e-03 -7.54658133e-03  3.85131948e-02  3.91105562e-03\n",
            "   -3.71877924e-02  4.68277223e-02 -1.95779689e-02  4.62418534e-02\n",
            "    2.24379040e-02 -3.06661017e-02]\n",
            "  [ 8.64313915e-03 -7.54658133e-03  3.85131948e-02  3.91105562e-03\n",
            "   -3.71877924e-02  4.68277223e-02 -1.95779689e-02  4.62418534e-02\n",
            "    2.24379040e-02 -3.06661017e-02]\n",
            "  [ 1.32808350e-02 -4.91882451e-02  2.35729553e-02  4.12579440e-02\n",
            "   -5.44596836e-03  3.78148220e-02 -2.04640757e-02  9.03892517e-03\n",
            "    4.11546566e-02 -3.56959179e-03]\n",
            "  [ 2.41634361e-02 -4.70392704e-02  4.25758399e-02 -1.97589155e-02\n",
            "   -4.10336144e-02  8.20478052e-03  3.41502465e-02  4.53735851e-02\n",
            "   -6.45382330e-03 -2.98080090e-02]\n",
            "  [ 3.75902988e-02  2.03546323e-02  8.68831947e-03  9.02010128e-03\n",
            "    7.88488239e-03  4.01605852e-02 -5.59139252e-03  3.76062654e-02\n",
            "   -2.77424976e-03 -2.94157267e-02]\n",
            "  [ 2.92879008e-02  1.76864304e-02  3.45645659e-02  4.23086770e-02\n",
            "   -2.05583218e-02  4.69010212e-02  2.82035954e-02 -2.14263089e-02\n",
            "    3.42764966e-02  1.02919228e-02]]\n",
            "\n",
            " [[ 8.64313915e-03 -7.54658133e-03  3.85131948e-02  3.91105562e-03\n",
            "   -3.71877924e-02  4.68277223e-02 -1.95779689e-02  4.62418534e-02\n",
            "    2.24379040e-02 -3.06661017e-02]\n",
            "  [ 8.64313915e-03 -7.54658133e-03  3.85131948e-02  3.91105562e-03\n",
            "   -3.71877924e-02  4.68277223e-02 -1.95779689e-02  4.62418534e-02\n",
            "    2.24379040e-02 -3.06661017e-02]\n",
            "  [ 8.64313915e-03 -7.54658133e-03  3.85131948e-02  3.91105562e-03\n",
            "   -3.71877924e-02  4.68277223e-02 -1.95779689e-02  4.62418534e-02\n",
            "    2.24379040e-02 -3.06661017e-02]\n",
            "  [ 8.64313915e-03 -7.54658133e-03  3.85131948e-02  3.91105562e-03\n",
            "   -3.71877924e-02  4.68277223e-02 -1.95779689e-02  4.62418534e-02\n",
            "    2.24379040e-02 -3.06661017e-02]\n",
            "  [ 1.32808350e-02 -4.91882451e-02  2.35729553e-02  4.12579440e-02\n",
            "   -5.44596836e-03  3.78148220e-02 -2.04640757e-02  9.03892517e-03\n",
            "    4.11546566e-02 -3.56959179e-03]\n",
            "  [ 2.41634361e-02 -4.70392704e-02  4.25758399e-02 -1.97589155e-02\n",
            "   -4.10336144e-02  8.20478052e-03  3.41502465e-02  4.53735851e-02\n",
            "   -6.45382330e-03 -2.98080090e-02]\n",
            "  [ 3.75902988e-02  2.03546323e-02  8.68831947e-03  9.02010128e-03\n",
            "    7.88488239e-03  4.01605852e-02 -5.59139252e-03  3.76062654e-02\n",
            "   -2.77424976e-03 -2.94157267e-02]\n",
            "  [-4.48520072e-02  1.67549141e-02  3.31138261e-02  1.20388865e-02\n",
            "   -3.11473012e-02  2.03510560e-02 -1.30263567e-02  3.44730951e-02\n",
            "    3.83753702e-03 -2.53239162e-02]]\n",
            "\n",
            " [[ 8.64313915e-03 -7.54658133e-03  3.85131948e-02  3.91105562e-03\n",
            "   -3.71877924e-02  4.68277223e-02 -1.95779689e-02  4.62418534e-02\n",
            "    2.24379040e-02 -3.06661017e-02]\n",
            "  [ 8.64313915e-03 -7.54658133e-03  3.85131948e-02  3.91105562e-03\n",
            "   -3.71877924e-02  4.68277223e-02 -1.95779689e-02  4.62418534e-02\n",
            "    2.24379040e-02 -3.06661017e-02]\n",
            "  [ 8.64313915e-03 -7.54658133e-03  3.85131948e-02  3.91105562e-03\n",
            "   -3.71877924e-02  4.68277223e-02 -1.95779689e-02  4.62418534e-02\n",
            "    2.24379040e-02 -3.06661017e-02]\n",
            "  [ 8.64313915e-03 -7.54658133e-03  3.85131948e-02  3.91105562e-03\n",
            "   -3.71877924e-02  4.68277223e-02 -1.95779689e-02  4.62418534e-02\n",
            "    2.24379040e-02 -3.06661017e-02]\n",
            "  [ 1.32808350e-02 -4.91882451e-02  2.35729553e-02  4.12579440e-02\n",
            "   -5.44596836e-03  3.78148220e-02 -2.04640757e-02  9.03892517e-03\n",
            "    4.11546566e-02 -3.56959179e-03]\n",
            "  [ 2.48302333e-02 -2.73132455e-02 -2.11633202e-02 -4.25394550e-02\n",
            "   -2.93440949e-02 -3.40462811e-02  1.99998729e-02  8.89077783e-05\n",
            "   -4.71470505e-03  3.72668840e-02]\n",
            "  [ 3.75902988e-02  2.03546323e-02  8.68831947e-03  9.02010128e-03\n",
            "    7.88488239e-03  4.01605852e-02 -5.59139252e-03  3.76062654e-02\n",
            "   -2.77424976e-03 -2.94157267e-02]\n",
            "  [ 3.59443314e-02  2.51542814e-02 -2.54461914e-03 -3.78175378e-02\n",
            "   -1.41425841e-02 -3.08577064e-02  3.57266106e-02  8.61325115e-03\n",
            "   -3.44223753e-02 -2.39331722e-02]]\n",
            "\n",
            " [[ 8.64313915e-03 -7.54658133e-03  3.85131948e-02  3.91105562e-03\n",
            "   -3.71877924e-02  4.68277223e-02 -1.95779689e-02  4.62418534e-02\n",
            "    2.24379040e-02 -3.06661017e-02]\n",
            "  [ 8.64313915e-03 -7.54658133e-03  3.85131948e-02  3.91105562e-03\n",
            "   -3.71877924e-02  4.68277223e-02 -1.95779689e-02  4.62418534e-02\n",
            "    2.24379040e-02 -3.06661017e-02]\n",
            "  [ 8.64313915e-03 -7.54658133e-03  3.85131948e-02  3.91105562e-03\n",
            "   -3.71877924e-02  4.68277223e-02 -1.95779689e-02  4.62418534e-02\n",
            "    2.24379040e-02 -3.06661017e-02]\n",
            "  [-2.16086991e-02  5.89896366e-03  3.69362906e-03  2.32884176e-02\n",
            "   -1.09916925e-02 -4.88073602e-02 -1.61986947e-02  2.69905366e-02\n",
            "   -3.40387374e-02 -4.02764678e-02]\n",
            "  [-1.59878023e-02  4.12929058e-03 -3.97322997e-02  3.39913107e-02\n",
            "   -3.97490337e-03 -3.91899832e-02 -4.54255454e-02  3.75775136e-02\n",
            "    6.05999306e-03  4.58492674e-02]\n",
            "  [ 1.72189958e-02 -2.26342678e-03  6.50768355e-03 -1.81559809e-02\n",
            "    6.50430843e-03  2.92266943e-02 -1.09938383e-02  2.48757936e-02\n",
            "    4.85085882e-02  3.32620032e-02]\n",
            "  [-2.95542013e-02 -4.07146104e-02 -3.34012508e-02 -3.08492538e-02\n",
            "   -1.81220397e-02 -1.37553439e-02  1.28011145e-02 -3.73571143e-02\n",
            "   -3.27550247e-03 -8.59402120e-04]\n",
            "  [-2.48628389e-02 -7.86454603e-03  2.42738836e-02 -1.17372759e-02\n",
            "   -2.27221735e-02 -6.77453354e-03  3.04464139e-02  3.64623927e-02\n",
            "   -3.38870510e-02  1.45178325e-02]]\n",
            "\n",
            " [[ 8.64313915e-03 -7.54658133e-03  3.85131948e-02  3.91105562e-03\n",
            "   -3.71877924e-02  4.68277223e-02 -1.95779689e-02  4.62418534e-02\n",
            "    2.24379040e-02 -3.06661017e-02]\n",
            "  [ 8.64313915e-03 -7.54658133e-03  3.85131948e-02  3.91105562e-03\n",
            "   -3.71877924e-02  4.68277223e-02 -1.95779689e-02  4.62418534e-02\n",
            "    2.24379040e-02 -3.06661017e-02]\n",
            "  [ 8.64313915e-03 -7.54658133e-03  3.85131948e-02  3.91105562e-03\n",
            "   -3.71877924e-02  4.68277223e-02 -1.95779689e-02  4.62418534e-02\n",
            "    2.24379040e-02 -3.06661017e-02]\n",
            "  [-2.16086991e-02  5.89896366e-03  3.69362906e-03  2.32884176e-02\n",
            "   -1.09916925e-02 -4.88073602e-02 -1.61986947e-02  2.69905366e-02\n",
            "   -3.40387374e-02 -4.02764678e-02]\n",
            "  [-1.59878023e-02  4.12929058e-03 -3.97322997e-02  3.39913107e-02\n",
            "   -3.97490337e-03 -3.91899832e-02 -4.54255454e-02  3.75775136e-02\n",
            "    6.05999306e-03  4.58492674e-02]\n",
            "  [ 1.72189958e-02 -2.26342678e-03  6.50768355e-03 -1.81559809e-02\n",
            "    6.50430843e-03  2.92266943e-02 -1.09938383e-02  2.48757936e-02\n",
            "    4.85085882e-02  3.32620032e-02]\n",
            "  [-2.95542013e-02 -4.07146104e-02 -3.34012508e-02 -3.08492538e-02\n",
            "   -1.81220397e-02 -1.37553439e-02  1.28011145e-02 -3.73571143e-02\n",
            "   -3.27550247e-03 -8.59402120e-04]\n",
            "  [-1.85642950e-02  3.12548317e-02 -4.56138849e-02 -1.34000294e-02\n",
            "    3.34580652e-02 -3.74523550e-03  2.84295790e-02  1.17409937e-02\n",
            "   -4.92221117e-03  2.44843252e-02]]\n",
            "\n",
            " [[ 8.64313915e-03 -7.54658133e-03  3.85131948e-02  3.91105562e-03\n",
            "   -3.71877924e-02  4.68277223e-02 -1.95779689e-02  4.62418534e-02\n",
            "    2.24379040e-02 -3.06661017e-02]\n",
            "  [ 8.64313915e-03 -7.54658133e-03  3.85131948e-02  3.91105562e-03\n",
            "   -3.71877924e-02  4.68277223e-02 -1.95779689e-02  4.62418534e-02\n",
            "    2.24379040e-02 -3.06661017e-02]\n",
            "  [ 8.64313915e-03 -7.54658133e-03  3.85131948e-02  3.91105562e-03\n",
            "   -3.71877924e-02  4.68277223e-02 -1.95779689e-02  4.62418534e-02\n",
            "    2.24379040e-02 -3.06661017e-02]\n",
            "  [ 3.02487612e-03 -4.93793599e-02  1.26406066e-02 -1.45973079e-02\n",
            "    3.05750035e-02 -1.66951492e-03  5.63367456e-03 -1.06183887e-02\n",
            "    1.15830079e-02  4.65995781e-02]\n",
            "  [ 1.32808350e-02 -4.91882451e-02  2.35729553e-02  4.12579440e-02\n",
            "   -5.44596836e-03  3.78148220e-02 -2.04640757e-02  9.03892517e-03\n",
            "    4.11546566e-02 -3.56959179e-03]\n",
            "  [ 1.30918361e-02 -3.30911875e-02  1.11521855e-02 -1.52500756e-02\n",
            "    6.49467111e-05 -2.24244352e-02  3.97019722e-02  3.49439643e-02\n",
            "    4.63195182e-02  1.92136280e-02]\n",
            "  [ 3.75902988e-02  2.03546323e-02  8.68831947e-03  9.02010128e-03\n",
            "    7.88488239e-03  4.01605852e-02 -5.59139252e-03  3.76062654e-02\n",
            "   -2.77424976e-03 -2.94157267e-02]\n",
            "  [ 4.25329693e-02  4.64383624e-02  2.61848234e-02  3.71718407e-03\n",
            "   -3.54631767e-02 -4.95802164e-02 -2.20977906e-02 -4.97323535e-02\n",
            "   -1.12437606e-02  3.53341438e-02]]\n",
            "\n",
            " [[ 8.64313915e-03 -7.54658133e-03  3.85131948e-02  3.91105562e-03\n",
            "   -3.71877924e-02  4.68277223e-02 -1.95779689e-02  4.62418534e-02\n",
            "    2.24379040e-02 -3.06661017e-02]\n",
            "  [ 8.64313915e-03 -7.54658133e-03  3.85131948e-02  3.91105562e-03\n",
            "   -3.71877924e-02  4.68277223e-02 -1.95779689e-02  4.62418534e-02\n",
            "    2.24379040e-02 -3.06661017e-02]\n",
            "  [ 8.64313915e-03 -7.54658133e-03  3.85131948e-02  3.91105562e-03\n",
            "   -3.71877924e-02  4.68277223e-02 -1.95779689e-02  4.62418534e-02\n",
            "    2.24379040e-02 -3.06661017e-02]\n",
            "  [ 8.64313915e-03 -7.54658133e-03  3.85131948e-02  3.91105562e-03\n",
            "   -3.71877924e-02  4.68277223e-02 -1.95779689e-02  4.62418534e-02\n",
            "    2.24379040e-02 -3.06661017e-02]\n",
            "  [-4.33360115e-02  1.39919668e-03  3.30839641e-02  7.83375651e-03\n",
            "    1.57313012e-02 -2.36497652e-02  3.79579104e-02  7.60019943e-03\n",
            "    2.21315958e-02 -1.32719278e-02]\n",
            "  [-3.23880315e-02 -2.61319876e-02  3.65110375e-02  1.60274617e-02\n",
            "   -1.05511919e-02 -3.41502801e-02  1.50629915e-02 -3.43136787e-02\n",
            "   -4.66148257e-02 -3.63629684e-02]\n",
            "  [-3.42019424e-02  4.99303080e-02  9.29366797e-04 -8.58024508e-03\n",
            "   -4.22367454e-02 -1.90055016e-02  1.49843432e-02  3.12134363e-02\n",
            "   -1.98766235e-02  3.61593813e-03]\n",
            "  [-2.95542013e-02 -4.07146104e-02 -3.34012508e-02 -3.08492538e-02\n",
            "   -1.81220397e-02 -1.37553439e-02  1.28011145e-02 -3.73571143e-02\n",
            "   -3.27550247e-03 -8.59402120e-04]]]\n"
          ]
        }
      ]
    },
    {
      "cell_type": "code",
      "source": [
        "embedded_docs[0] # individual words as OHE index Representation\n",
        "# 1st 0 is representated by [0.02074809  0.01422128 -0.00158076  0.04260482  0.03743099 -0.02744939 0.02690974 -0.01379747 -0.03206321 -0.03500722]\n",
        "# 1st 4 are going to be same\n",
        "# last 688 -> [ 0.02923429  0.03882506 -0.02096164 -0.04938703  0.00778998  0.04115139 0.04665769 -0.0258477  -0.0281279  -0.04491217]"
      ],
      "metadata": {
        "colab": {
          "base_uri": "https://localhost:8080/"
        },
        "id": "Y02nZdy52zEQ",
        "outputId": "36f29066-92be-4146-e32b-46516140ea91"
      },
      "execution_count": 22,
      "outputs": [
        {
          "output_type": "execute_result",
          "data": {
            "text/plain": [
              "array([   0,    0,    0,    0, 4092, 6735, 2781,  688], dtype=int32)"
            ]
          },
          "metadata": {},
          "execution_count": 22
        }
      ]
    },
    {
      "cell_type": "code",
      "source": [
        "print(model.predict(embedded_docs)[0])"
      ],
      "metadata": {
        "colab": {
          "base_uri": "https://localhost:8080/"
        },
        "id": "dIIAZ7rV204d",
        "outputId": "562ec216-1da0-4567-c6e9-96e9e2c6b535"
      },
      "execution_count": 23,
      "outputs": [
        {
          "output_type": "stream",
          "name": "stdout",
          "text": [
            "1/1 [==============================] - 0s 76ms/step\n",
            "[[ 0.02074809  0.01422128 -0.00158076  0.04260482  0.03743099 -0.02744939\n",
            "   0.02690974 -0.01379747 -0.03206321 -0.03500722]\n",
            " [ 0.02074809  0.01422128 -0.00158076  0.04260482  0.03743099 -0.02744939\n",
            "   0.02690974 -0.01379747 -0.03206321 -0.03500722]\n",
            " [ 0.02074809  0.01422128 -0.00158076  0.04260482  0.03743099 -0.02744939\n",
            "   0.02690974 -0.01379747 -0.03206321 -0.03500722]\n",
            " [ 0.02074809  0.01422128 -0.00158076  0.04260482  0.03743099 -0.02744939\n",
            "   0.02690974 -0.01379747 -0.03206321 -0.03500722]\n",
            " [ 0.0317749  -0.00259344 -0.02102555 -0.02585248  0.00384589 -0.01401185\n",
            "   0.02725497  0.04022573 -0.03404214  0.03094122]\n",
            " [ 0.02649177 -0.04695528  0.00439129 -0.00904882  0.04713397  0.00892079\n",
            "  -0.01204731  0.04656347 -0.01546475  0.01274537]\n",
            " [-0.01856619  0.01772969  0.0313442  -0.00370792  0.04882068  0.00047197\n",
            "  -0.03966477  0.01218734  0.04448972 -0.01093228]\n",
            " [ 0.02923429  0.03882506 -0.02096164 -0.04938703  0.00778998  0.04115139\n",
            "   0.04665769 -0.0258477  -0.0281279  -0.04491217]]\n"
          ]
        }
      ]
    },
    {
      "cell_type": "code",
      "source": [],
      "metadata": {
        "id": "bgciEGR722J_"
      },
      "execution_count": null,
      "outputs": []
    }
  ]
}
