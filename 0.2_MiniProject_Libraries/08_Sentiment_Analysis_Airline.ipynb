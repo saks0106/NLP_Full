{
  "nbformat": 4,
  "nbformat_minor": 0,
  "metadata": {
    "colab": {
      "provenance": [],
      "authorship_tag": "ABX9TyMYoRgVI8RhaHM4Ttjt6t4h",
      "include_colab_link": true
    },
    "kernelspec": {
      "name": "python3",
      "display_name": "Python 3"
    },
    "language_info": {
      "name": "python"
    }
  },
  "cells": [
    {
      "cell_type": "markdown",
      "metadata": {
        "id": "view-in-github",
        "colab_type": "text"
      },
      "source": [
        "<a href=\"https://colab.research.google.com/github/saks0106/DL_Frequent_Lookout/blob/main/0.0.Sentiment_Analysis_2.ipynb\" target=\"_parent\"><img src=\"https://colab.research.google.com/assets/colab-badge.svg\" alt=\"Open In Colab\"/></a>"
      ]
    },
    {
      "cell_type": "code",
      "source": [
        "# https://www.kaggle.com/crowdflower/twitter-airline-sentiment\n",
        "!wget -nc https://lazyprogrammer.me/course_files/AirlineTweets.csv"
      ],
      "metadata": {
        "colab": {
          "base_uri": "https://localhost:8080/"
        },
        "id": "jMzR8b_OY3fY",
        "outputId": "236026e2-f907-4507-9d11-a1c85d2a9073"
      },
      "execution_count": 1,
      "outputs": [
        {
          "output_type": "stream",
          "name": "stdout",
          "text": [
            "--2023-10-10 11:40:52--  https://lazyprogrammer.me/course_files/AirlineTweets.csv\n",
            "Resolving lazyprogrammer.me (lazyprogrammer.me)... 172.67.213.166, 104.21.23.210, 2606:4700:3031::6815:17d2, ...\n",
            "Connecting to lazyprogrammer.me (lazyprogrammer.me)|172.67.213.166|:443... connected.\n",
            "HTTP request sent, awaiting response... 200 OK\n",
            "Length: 3421431 (3.3M) [text/csv]\n",
            "Saving to: ‘AirlineTweets.csv’\n",
            "\n",
            "AirlineTweets.csv   100%[===================>]   3.26M  10.7MB/s    in 0.3s    \n",
            "\n",
            "2023-10-10 11:40:53 (10.7 MB/s) - ‘AirlineTweets.csv’ saved [3421431/3421431]\n",
            "\n"
          ]
        }
      ]
    },
    {
      "cell_type": "code",
      "source": [
        "import numpy as np\n",
        "import pandas as pd\n",
        "import seaborn as sn\n",
        "import tensorflow as tf\n",
        "import matplotlib.pyplot as plt\n",
        "from sklearn.model_selection import train_test_split\n",
        "from sklearn.feature_extraction.text import TfidfVectorizer\n",
        "from sklearn.metrics import roc_auc_score, f1_score, confusion_matrix\n",
        "\n",
        "from tensorflow.keras.layers import Dense, Input\n",
        "from tensorflow.keras.models import Model\n",
        "from tensorflow.keras.losses import BinaryCrossentropy\n",
        "from tensorflow.keras.optimizers import Adam\n",
        "np.random.seed(0)\n",
        "tf.random.set_seed(0)\n",
        "df = pd.read_csv('AirlineTweets.csv')\n",
        "df.head()"
      ],
      "metadata": {
        "colab": {
          "base_uri": "https://localhost:8080/",
          "height": 452
        },
        "id": "UyHfOVM0Y7-x",
        "outputId": "f3dce068-9c95-4ebb-f667-177ef3c4d5fb"
      },
      "execution_count": 2,
      "outputs": [
        {
          "output_type": "execute_result",
          "data": {
            "text/plain": [
              "             tweet_id airline_sentiment  airline_sentiment_confidence  \\\n",
              "0  570306133677760513           neutral                        1.0000   \n",
              "1  570301130888122368          positive                        0.3486   \n",
              "2  570301083672813571           neutral                        0.6837   \n",
              "3  570301031407624196          negative                        1.0000   \n",
              "4  570300817074462722          negative                        1.0000   \n",
              "\n",
              "  negativereason  negativereason_confidence         airline  \\\n",
              "0            NaN                        NaN  Virgin America   \n",
              "1            NaN                     0.0000  Virgin America   \n",
              "2            NaN                        NaN  Virgin America   \n",
              "3     Bad Flight                     0.7033  Virgin America   \n",
              "4     Can't Tell                     1.0000  Virgin America   \n",
              "\n",
              "  airline_sentiment_gold        name negativereason_gold  retweet_count  \\\n",
              "0                    NaN     cairdin                 NaN              0   \n",
              "1                    NaN    jnardino                 NaN              0   \n",
              "2                    NaN  yvonnalynn                 NaN              0   \n",
              "3                    NaN    jnardino                 NaN              0   \n",
              "4                    NaN    jnardino                 NaN              0   \n",
              "\n",
              "                                                text tweet_coord  \\\n",
              "0                @VirginAmerica What @dhepburn said.         NaN   \n",
              "1  @VirginAmerica plus you've added commercials t...         NaN   \n",
              "2  @VirginAmerica I didn't today... Must mean I n...         NaN   \n",
              "3  @VirginAmerica it's really aggressive to blast...         NaN   \n",
              "4  @VirginAmerica and it's a really big bad thing...         NaN   \n",
              "\n",
              "               tweet_created tweet_location               user_timezone  \n",
              "0  2015-02-24 11:35:52 -0800            NaN  Eastern Time (US & Canada)  \n",
              "1  2015-02-24 11:15:59 -0800            NaN  Pacific Time (US & Canada)  \n",
              "2  2015-02-24 11:15:48 -0800      Lets Play  Central Time (US & Canada)  \n",
              "3  2015-02-24 11:15:36 -0800            NaN  Pacific Time (US & Canada)  \n",
              "4  2015-02-24 11:14:45 -0800            NaN  Pacific Time (US & Canada)  "
            ],
            "text/html": [
              "\n",
              "  <div id=\"df-9389e5f5-b2ed-48d6-8216-5a4feea0b05d\" class=\"colab-df-container\">\n",
              "    <div>\n",
              "<style scoped>\n",
              "    .dataframe tbody tr th:only-of-type {\n",
              "        vertical-align: middle;\n",
              "    }\n",
              "\n",
              "    .dataframe tbody tr th {\n",
              "        vertical-align: top;\n",
              "    }\n",
              "\n",
              "    .dataframe thead th {\n",
              "        text-align: right;\n",
              "    }\n",
              "</style>\n",
              "<table border=\"1\" class=\"dataframe\">\n",
              "  <thead>\n",
              "    <tr style=\"text-align: right;\">\n",
              "      <th></th>\n",
              "      <th>tweet_id</th>\n",
              "      <th>airline_sentiment</th>\n",
              "      <th>airline_sentiment_confidence</th>\n",
              "      <th>negativereason</th>\n",
              "      <th>negativereason_confidence</th>\n",
              "      <th>airline</th>\n",
              "      <th>airline_sentiment_gold</th>\n",
              "      <th>name</th>\n",
              "      <th>negativereason_gold</th>\n",
              "      <th>retweet_count</th>\n",
              "      <th>text</th>\n",
              "      <th>tweet_coord</th>\n",
              "      <th>tweet_created</th>\n",
              "      <th>tweet_location</th>\n",
              "      <th>user_timezone</th>\n",
              "    </tr>\n",
              "  </thead>\n",
              "  <tbody>\n",
              "    <tr>\n",
              "      <th>0</th>\n",
              "      <td>570306133677760513</td>\n",
              "      <td>neutral</td>\n",
              "      <td>1.0000</td>\n",
              "      <td>NaN</td>\n",
              "      <td>NaN</td>\n",
              "      <td>Virgin America</td>\n",
              "      <td>NaN</td>\n",
              "      <td>cairdin</td>\n",
              "      <td>NaN</td>\n",
              "      <td>0</td>\n",
              "      <td>@VirginAmerica What @dhepburn said.</td>\n",
              "      <td>NaN</td>\n",
              "      <td>2015-02-24 11:35:52 -0800</td>\n",
              "      <td>NaN</td>\n",
              "      <td>Eastern Time (US &amp; Canada)</td>\n",
              "    </tr>\n",
              "    <tr>\n",
              "      <th>1</th>\n",
              "      <td>570301130888122368</td>\n",
              "      <td>positive</td>\n",
              "      <td>0.3486</td>\n",
              "      <td>NaN</td>\n",
              "      <td>0.0000</td>\n",
              "      <td>Virgin America</td>\n",
              "      <td>NaN</td>\n",
              "      <td>jnardino</td>\n",
              "      <td>NaN</td>\n",
              "      <td>0</td>\n",
              "      <td>@VirginAmerica plus you've added commercials t...</td>\n",
              "      <td>NaN</td>\n",
              "      <td>2015-02-24 11:15:59 -0800</td>\n",
              "      <td>NaN</td>\n",
              "      <td>Pacific Time (US &amp; Canada)</td>\n",
              "    </tr>\n",
              "    <tr>\n",
              "      <th>2</th>\n",
              "      <td>570301083672813571</td>\n",
              "      <td>neutral</td>\n",
              "      <td>0.6837</td>\n",
              "      <td>NaN</td>\n",
              "      <td>NaN</td>\n",
              "      <td>Virgin America</td>\n",
              "      <td>NaN</td>\n",
              "      <td>yvonnalynn</td>\n",
              "      <td>NaN</td>\n",
              "      <td>0</td>\n",
              "      <td>@VirginAmerica I didn't today... Must mean I n...</td>\n",
              "      <td>NaN</td>\n",
              "      <td>2015-02-24 11:15:48 -0800</td>\n",
              "      <td>Lets Play</td>\n",
              "      <td>Central Time (US &amp; Canada)</td>\n",
              "    </tr>\n",
              "    <tr>\n",
              "      <th>3</th>\n",
              "      <td>570301031407624196</td>\n",
              "      <td>negative</td>\n",
              "      <td>1.0000</td>\n",
              "      <td>Bad Flight</td>\n",
              "      <td>0.7033</td>\n",
              "      <td>Virgin America</td>\n",
              "      <td>NaN</td>\n",
              "      <td>jnardino</td>\n",
              "      <td>NaN</td>\n",
              "      <td>0</td>\n",
              "      <td>@VirginAmerica it's really aggressive to blast...</td>\n",
              "      <td>NaN</td>\n",
              "      <td>2015-02-24 11:15:36 -0800</td>\n",
              "      <td>NaN</td>\n",
              "      <td>Pacific Time (US &amp; Canada)</td>\n",
              "    </tr>\n",
              "    <tr>\n",
              "      <th>4</th>\n",
              "      <td>570300817074462722</td>\n",
              "      <td>negative</td>\n",
              "      <td>1.0000</td>\n",
              "      <td>Can't Tell</td>\n",
              "      <td>1.0000</td>\n",
              "      <td>Virgin America</td>\n",
              "      <td>NaN</td>\n",
              "      <td>jnardino</td>\n",
              "      <td>NaN</td>\n",
              "      <td>0</td>\n",
              "      <td>@VirginAmerica and it's a really big bad thing...</td>\n",
              "      <td>NaN</td>\n",
              "      <td>2015-02-24 11:14:45 -0800</td>\n",
              "      <td>NaN</td>\n",
              "      <td>Pacific Time (US &amp; Canada)</td>\n",
              "    </tr>\n",
              "  </tbody>\n",
              "</table>\n",
              "</div>\n",
              "    <div class=\"colab-df-buttons\">\n",
              "\n",
              "  <div class=\"colab-df-container\">\n",
              "    <button class=\"colab-df-convert\" onclick=\"convertToInteractive('df-9389e5f5-b2ed-48d6-8216-5a4feea0b05d')\"\n",
              "            title=\"Convert this dataframe to an interactive table.\"\n",
              "            style=\"display:none;\">\n",
              "\n",
              "  <svg xmlns=\"http://www.w3.org/2000/svg\" height=\"24px\" viewBox=\"0 -960 960 960\">\n",
              "    <path d=\"M120-120v-720h720v720H120Zm60-500h600v-160H180v160Zm220 220h160v-160H400v160Zm0 220h160v-160H400v160ZM180-400h160v-160H180v160Zm440 0h160v-160H620v160ZM180-180h160v-160H180v160Zm440 0h160v-160H620v160Z\"/>\n",
              "  </svg>\n",
              "    </button>\n",
              "\n",
              "  <style>\n",
              "    .colab-df-container {\n",
              "      display:flex;\n",
              "      gap: 12px;\n",
              "    }\n",
              "\n",
              "    .colab-df-convert {\n",
              "      background-color: #E8F0FE;\n",
              "      border: none;\n",
              "      border-radius: 50%;\n",
              "      cursor: pointer;\n",
              "      display: none;\n",
              "      fill: #1967D2;\n",
              "      height: 32px;\n",
              "      padding: 0 0 0 0;\n",
              "      width: 32px;\n",
              "    }\n",
              "\n",
              "    .colab-df-convert:hover {\n",
              "      background-color: #E2EBFA;\n",
              "      box-shadow: 0px 1px 2px rgba(60, 64, 67, 0.3), 0px 1px 3px 1px rgba(60, 64, 67, 0.15);\n",
              "      fill: #174EA6;\n",
              "    }\n",
              "\n",
              "    .colab-df-buttons div {\n",
              "      margin-bottom: 4px;\n",
              "    }\n",
              "\n",
              "    [theme=dark] .colab-df-convert {\n",
              "      background-color: #3B4455;\n",
              "      fill: #D2E3FC;\n",
              "    }\n",
              "\n",
              "    [theme=dark] .colab-df-convert:hover {\n",
              "      background-color: #434B5C;\n",
              "      box-shadow: 0px 1px 3px 1px rgba(0, 0, 0, 0.15);\n",
              "      filter: drop-shadow(0px 1px 2px rgba(0, 0, 0, 0.3));\n",
              "      fill: #FFFFFF;\n",
              "    }\n",
              "  </style>\n",
              "\n",
              "    <script>\n",
              "      const buttonEl =\n",
              "        document.querySelector('#df-9389e5f5-b2ed-48d6-8216-5a4feea0b05d button.colab-df-convert');\n",
              "      buttonEl.style.display =\n",
              "        google.colab.kernel.accessAllowed ? 'block' : 'none';\n",
              "\n",
              "      async function convertToInteractive(key) {\n",
              "        const element = document.querySelector('#df-9389e5f5-b2ed-48d6-8216-5a4feea0b05d');\n",
              "        const dataTable =\n",
              "          await google.colab.kernel.invokeFunction('convertToInteractive',\n",
              "                                                    [key], {});\n",
              "        if (!dataTable) return;\n",
              "\n",
              "        const docLinkHtml = 'Like what you see? Visit the ' +\n",
              "          '<a target=\"_blank\" href=https://colab.research.google.com/notebooks/data_table.ipynb>data table notebook</a>'\n",
              "          + ' to learn more about interactive tables.';\n",
              "        element.innerHTML = '';\n",
              "        dataTable['output_type'] = 'display_data';\n",
              "        await google.colab.output.renderOutput(dataTable, element);\n",
              "        const docLink = document.createElement('div');\n",
              "        docLink.innerHTML = docLinkHtml;\n",
              "        element.appendChild(docLink);\n",
              "      }\n",
              "    </script>\n",
              "  </div>\n",
              "\n",
              "\n",
              "<div id=\"df-5340e7b7-2ad6-4fb9-8ce4-42031e90e40c\">\n",
              "  <button class=\"colab-df-quickchart\" onclick=\"quickchart('df-5340e7b7-2ad6-4fb9-8ce4-42031e90e40c')\"\n",
              "            title=\"Suggest charts.\"\n",
              "            style=\"display:none;\">\n",
              "\n",
              "<svg xmlns=\"http://www.w3.org/2000/svg\" height=\"24px\"viewBox=\"0 0 24 24\"\n",
              "     width=\"24px\">\n",
              "    <g>\n",
              "        <path d=\"M19 3H5c-1.1 0-2 .9-2 2v14c0 1.1.9 2 2 2h14c1.1 0 2-.9 2-2V5c0-1.1-.9-2-2-2zM9 17H7v-7h2v7zm4 0h-2V7h2v10zm4 0h-2v-4h2v4z\"/>\n",
              "    </g>\n",
              "</svg>\n",
              "  </button>\n",
              "\n",
              "<style>\n",
              "  .colab-df-quickchart {\n",
              "      --bg-color: #E8F0FE;\n",
              "      --fill-color: #1967D2;\n",
              "      --hover-bg-color: #E2EBFA;\n",
              "      --hover-fill-color: #174EA6;\n",
              "      --disabled-fill-color: #AAA;\n",
              "      --disabled-bg-color: #DDD;\n",
              "  }\n",
              "\n",
              "  [theme=dark] .colab-df-quickchart {\n",
              "      --bg-color: #3B4455;\n",
              "      --fill-color: #D2E3FC;\n",
              "      --hover-bg-color: #434B5C;\n",
              "      --hover-fill-color: #FFFFFF;\n",
              "      --disabled-bg-color: #3B4455;\n",
              "      --disabled-fill-color: #666;\n",
              "  }\n",
              "\n",
              "  .colab-df-quickchart {\n",
              "    background-color: var(--bg-color);\n",
              "    border: none;\n",
              "    border-radius: 50%;\n",
              "    cursor: pointer;\n",
              "    display: none;\n",
              "    fill: var(--fill-color);\n",
              "    height: 32px;\n",
              "    padding: 0;\n",
              "    width: 32px;\n",
              "  }\n",
              "\n",
              "  .colab-df-quickchart:hover {\n",
              "    background-color: var(--hover-bg-color);\n",
              "    box-shadow: 0 1px 2px rgba(60, 64, 67, 0.3), 0 1px 3px 1px rgba(60, 64, 67, 0.15);\n",
              "    fill: var(--button-hover-fill-color);\n",
              "  }\n",
              "\n",
              "  .colab-df-quickchart-complete:disabled,\n",
              "  .colab-df-quickchart-complete:disabled:hover {\n",
              "    background-color: var(--disabled-bg-color);\n",
              "    fill: var(--disabled-fill-color);\n",
              "    box-shadow: none;\n",
              "  }\n",
              "\n",
              "  .colab-df-spinner {\n",
              "    border: 2px solid var(--fill-color);\n",
              "    border-color: transparent;\n",
              "    border-bottom-color: var(--fill-color);\n",
              "    animation:\n",
              "      spin 1s steps(1) infinite;\n",
              "  }\n",
              "\n",
              "  @keyframes spin {\n",
              "    0% {\n",
              "      border-color: transparent;\n",
              "      border-bottom-color: var(--fill-color);\n",
              "      border-left-color: var(--fill-color);\n",
              "    }\n",
              "    20% {\n",
              "      border-color: transparent;\n",
              "      border-left-color: var(--fill-color);\n",
              "      border-top-color: var(--fill-color);\n",
              "    }\n",
              "    30% {\n",
              "      border-color: transparent;\n",
              "      border-left-color: var(--fill-color);\n",
              "      border-top-color: var(--fill-color);\n",
              "      border-right-color: var(--fill-color);\n",
              "    }\n",
              "    40% {\n",
              "      border-color: transparent;\n",
              "      border-right-color: var(--fill-color);\n",
              "      border-top-color: var(--fill-color);\n",
              "    }\n",
              "    60% {\n",
              "      border-color: transparent;\n",
              "      border-right-color: var(--fill-color);\n",
              "    }\n",
              "    80% {\n",
              "      border-color: transparent;\n",
              "      border-right-color: var(--fill-color);\n",
              "      border-bottom-color: var(--fill-color);\n",
              "    }\n",
              "    90% {\n",
              "      border-color: transparent;\n",
              "      border-bottom-color: var(--fill-color);\n",
              "    }\n",
              "  }\n",
              "</style>\n",
              "\n",
              "  <script>\n",
              "    async function quickchart(key) {\n",
              "      const quickchartButtonEl =\n",
              "        document.querySelector('#' + key + ' button');\n",
              "      quickchartButtonEl.disabled = true;  // To prevent multiple clicks.\n",
              "      quickchartButtonEl.classList.add('colab-df-spinner');\n",
              "      try {\n",
              "        const charts = await google.colab.kernel.invokeFunction(\n",
              "            'suggestCharts', [key], {});\n",
              "      } catch (error) {\n",
              "        console.error('Error during call to suggestCharts:', error);\n",
              "      }\n",
              "      quickchartButtonEl.classList.remove('colab-df-spinner');\n",
              "      quickchartButtonEl.classList.add('colab-df-quickchart-complete');\n",
              "    }\n",
              "    (() => {\n",
              "      let quickchartButtonEl =\n",
              "        document.querySelector('#df-5340e7b7-2ad6-4fb9-8ce4-42031e90e40c button');\n",
              "      quickchartButtonEl.style.display =\n",
              "        google.colab.kernel.accessAllowed ? 'block' : 'none';\n",
              "    })();\n",
              "  </script>\n",
              "</div>\n",
              "    </div>\n",
              "  </div>\n"
            ]
          },
          "metadata": {},
          "execution_count": 2
        }
      ]
    },
    {
      "cell_type": "code",
      "source": [
        "df = df[['airline_sentiment', 'text']]\n",
        "df['airline_sentiment'].hist()\n"
      ],
      "metadata": {
        "colab": {
          "base_uri": "https://localhost:8080/",
          "height": 447
        },
        "id": "817OO0xuZHDl",
        "outputId": "6f6e3d50-a95f-4b8d-fd9b-7b20d4c42760"
      },
      "execution_count": 3,
      "outputs": [
        {
          "output_type": "execute_result",
          "data": {
            "text/plain": [
              "<Axes: >"
            ]
          },
          "metadata": {},
          "execution_count": 3
        },
        {
          "output_type": "display_data",
          "data": {
            "text/plain": [
              "<Figure size 640x480 with 1 Axes>"
            ],
            "image/png": "[encoded data removed]"
          },
          "metadata": {}
        }
      ]
    },
    {
      "cell_type": "code",
      "source": [
        "\n",
        "df = df[df['airline_sentiment'] != 'neutral'].copy()\n",
        "target_map = {'positive': 1, 'negative': 0}\n",
        "df['target'] = df['airline_sentiment'].map(target_map)\n",
        "df.head()"
      ],
      "metadata": {
        "colab": {
          "base_uri": "https://localhost:8080/",
          "height": 206
        },
        "id": "XF9zpHaMZIpa",
        "outputId": "a2d4f94d-054d-4fdb-db94-97229e252ecf"
      },
      "execution_count": 4,
      "outputs": [
        {
          "output_type": "execute_result",
          "data": {
            "text/plain": [
              "  airline_sentiment                                               text  target\n",
              "1          positive  @VirginAmerica plus you've added commercials t...       1\n",
              "3          negative  @VirginAmerica it's really aggressive to blast...       0\n",
              "4          negative  @VirginAmerica and it's a really big bad thing...       0\n",
              "5          negative  @VirginAmerica seriously would pay $30 a fligh...       0\n",
              "6          positive  @VirginAmerica yes, nearly every time I fly VX...       1"
            ],
            "text/html": [
              "\n",
              "  <div id=\"df-2db100a6-89ce-448f-88a8-118f83b7e13c\" class=\"colab-df-container\">\n",
              "    <div>\n",
              "<style scoped>\n",
              "    .dataframe tbody tr th:only-of-type {\n",
              "        vertical-align: middle;\n",
              "    }\n",
              "\n",
              "    .dataframe tbody tr th {\n",
              "        vertical-align: top;\n",
              "    }\n",
              "\n",
              "    .dataframe thead th {\n",
              "        text-align: right;\n",
              "    }\n",
              "</style>\n",
              "<table border=\"1\" class=\"dataframe\">\n",
              "  <thead>\n",
              "    <tr style=\"text-align: right;\">\n",
              "      <th></th>\n",
              "      <th>airline_sentiment</th>\n",
              "      <th>text</th>\n",
              "      <th>target</th>\n",
              "    </tr>\n",
              "  </thead>\n",
              "  <tbody>\n",
              "    <tr>\n",
              "      <th>1</th>\n",
              "      <td>positive</td>\n",
              "      <td>@VirginAmerica plus you've added commercials t...</td>\n",
              "      <td>1</td>\n",
              "    </tr>\n",
              "    <tr>\n",
              "      <th>3</th>\n",
              "      <td>negative</td>\n",
              "      <td>@VirginAmerica it's really aggressive to blast...</td>\n",
              "      <td>0</td>\n",
              "    </tr>\n",
              "    <tr>\n",
              "      <th>4</th>\n",
              "      <td>negative</td>\n",
              "      <td>@VirginAmerica and it's a really big bad thing...</td>\n",
              "      <td>0</td>\n",
              "    </tr>\n",
              "    <tr>\n",
              "      <th>5</th>\n",
              "      <td>negative</td>\n",
              "      <td>@VirginAmerica seriously would pay $30 a fligh...</td>\n",
              "      <td>0</td>\n",
              "    </tr>\n",
              "    <tr>\n",
              "      <th>6</th>\n",
              "      <td>positive</td>\n",
              "      <td>@VirginAmerica yes, nearly every time I fly VX...</td>\n",
              "      <td>1</td>\n",
              "    </tr>\n",
              "  </tbody>\n",
              "</table>\n",
              "</div>\n",
              "    <div class=\"colab-df-buttons\">\n",
              "\n",
              "  <div class=\"colab-df-container\">\n",
              "    <button class=\"colab-df-convert\" onclick=\"convertToInteractive('df-2db100a6-89ce-448f-88a8-118f83b7e13c')\"\n",
              "            title=\"Convert this dataframe to an interactive table.\"\n",
              "            style=\"display:none;\">\n",
              "\n",
              "  <svg xmlns=\"http://www.w3.org/2000/svg\" height=\"24px\" viewBox=\"0 -960 960 960\">\n",
              "    <path d=\"M120-120v-720h720v720H120Zm60-500h600v-160H180v160Zm220 220h160v-160H400v160Zm0 220h160v-160H400v160ZM180-400h160v-160H180v160Zm440 0h160v-160H620v160ZM180-180h160v-160H180v160Zm440 0h160v-160H620v160Z\"/>\n",
              "  </svg>\n",
              "    </button>\n",
              "\n",
              "  <style>\n",
              "    .colab-df-container {\n",
              "      display:flex;\n",
              "      gap: 12px;\n",
              "    }\n",
              "\n",
              "    .colab-df-convert {\n",
              "      background-color: #E8F0FE;\n",
              "      border: none;\n",
              "      border-radius: 50%;\n",
              "      cursor: pointer;\n",
              "      display: none;\n",
              "      fill: #1967D2;\n",
              "      height: 32px;\n",
              "      padding: 0 0 0 0;\n",
              "      width: 32px;\n",
              "    }\n",
              "\n",
              "    .colab-df-convert:hover {\n",
              "      background-color: #E2EBFA;\n",
              "      box-shadow: 0px 1px 2px rgba(60, 64, 67, 0.3), 0px 1px 3px 1px rgba(60, 64, 67, 0.15);\n",
              "      fill: #174EA6;\n",
              "    }\n",
              "\n",
              "    .colab-df-buttons div {\n",
              "      margin-bottom: 4px;\n",
              "    }\n",
              "\n",
              "    [theme=dark] .colab-df-convert {\n",
              "      background-color: #3B4455;\n",
              "      fill: #D2E3FC;\n",
              "    }\n",
              "\n",
              "    [theme=dark] .colab-df-convert:hover {\n",
              "      background-color: #434B5C;\n",
              "      box-shadow: 0px 1px 3px 1px rgba(0, 0, 0, 0.15);\n",
              "      filter: drop-shadow(0px 1px 2px rgba(0, 0, 0, 0.3));\n",
              "      fill: #FFFFFF;\n",
              "    }\n",
              "  </style>\n",
              "\n",
              "    <script>\n",
              "      const buttonEl =\n",
              "        document.querySelector('#df-2db100a6-89ce-448f-88a8-118f83b7e13c button.colab-df-convert');\n",
              "      buttonEl.style.display =\n",
              "        google.colab.kernel.accessAllowed ? 'block' : 'none';\n",
              "\n",
              "      async function convertToInteractive(key) {\n",
              "        const element = document.querySelector('#df-2db100a6-89ce-448f-88a8-118f83b7e13c');\n",
              "        const dataTable =\n",
              "          await google.colab.kernel.invokeFunction('convertToInteractive',\n",
              "                                                    [key], {});\n",
              "        if (!dataTable) return;\n",
              "\n",
              "        const docLinkHtml = 'Like what you see? Visit the ' +\n",
              "          '<a target=\"_blank\" href=https://colab.research.google.com/notebooks/data_table.ipynb>data table notebook</a>'\n",
              "          + ' to learn more about interactive tables.';\n",
              "        element.innerHTML = '';\n",
              "        dataTable['output_type'] = 'display_data';\n",
              "        await google.colab.output.renderOutput(dataTable, element);\n",
              "        const docLink = document.createElement('div');\n",
              "        docLink.innerHTML = docLinkHtml;\n",
              "        element.appendChild(docLink);\n",
              "      }\n",
              "    </script>\n",
              "  </div>\n",
              "\n",
              "\n",
              "<div id=\"df-e8678283-7039-48b7-bb75-7e918c1f7f55\">\n",
              "  <button class=\"colab-df-quickchart\" onclick=\"quickchart('df-e8678283-7039-48b7-bb75-7e918c1f7f55')\"\n",
              "            title=\"Suggest charts.\"\n",
              "            style=\"display:none;\">\n",
              "\n",
              "<svg xmlns=\"http://www.w3.org/2000/svg\" height=\"24px\"viewBox=\"0 0 24 24\"\n",
              "     width=\"24px\">\n",
              "    <g>\n",
              "        <path d=\"M19 3H5c-1.1 0-2 .9-2 2v14c0 1.1.9 2 2 2h14c1.1 0 2-.9 2-2V5c0-1.1-.9-2-2-2zM9 17H7v-7h2v7zm4 0h-2V7h2v10zm4 0h-2v-4h2v4z\"/>\n",
              "    </g>\n",
              "</svg>\n",
              "  </button>\n",
              "\n",
              "<style>\n",
              "  .colab-df-quickchart {\n",
              "      --bg-color: #E8F0FE;\n",
              "      --fill-color: #1967D2;\n",
              "      --hover-bg-color: #E2EBFA;\n",
              "      --hover-fill-color: #174EA6;\n",
              "      --disabled-fill-color: #AAA;\n",
              "      --disabled-bg-color: #DDD;\n",
              "  }\n",
              "\n",
              "  [theme=dark] .colab-df-quickchart {\n",
              "      --bg-color: #3B4455;\n",
              "      --fill-color: #D2E3FC;\n",
              "      --hover-bg-color: #434B5C;\n",
              "      --hover-fill-color: #FFFFFF;\n",
              "      --disabled-bg-color: #3B4455;\n",
              "      --disabled-fill-color: #666;\n",
              "  }\n",
              "\n",
              "  .colab-df-quickchart {\n",
              "    background-color: var(--bg-color);\n",
              "    border: none;\n",
              "    border-radius: 50%;\n",
              "    cursor: pointer;\n",
              "    display: none;\n",
              "    fill: var(--fill-color);\n",
              "    height: 32px;\n",
              "    padding: 0;\n",
              "    width: 32px;\n",
              "  }\n",
              "\n",
              "  .colab-df-quickchart:hover {\n",
              "    background-color: var(--hover-bg-color);\n",
              "    box-shadow: 0 1px 2px rgba(60, 64, 67, 0.3), 0 1px 3px 1px rgba(60, 64, 67, 0.15);\n",
              "    fill: var(--button-hover-fill-color);\n",
              "  }\n",
              "\n",
              "  .colab-df-quickchart-complete:disabled,\n",
              "  .colab-df-quickchart-complete:disabled:hover {\n",
              "    background-color: var(--disabled-bg-color);\n",
              "    fill: var(--disabled-fill-color);\n",
              "    box-shadow: none;\n",
              "  }\n",
              "\n",
              "  .colab-df-spinner {\n",
              "    border: 2px solid var(--fill-color);\n",
              "    border-color: transparent;\n",
              "    border-bottom-color: var(--fill-color);\n",
              "    animation:\n",
              "      spin 1s steps(1) infinite;\n",
              "  }\n",
              "\n",
              "  @keyframes spin {\n",
              "    0% {\n",
              "      border-color: transparent;\n",
              "      border-bottom-color: var(--fill-color);\n",
              "      border-left-color: var(--fill-color);\n",
              "    }\n",
              "    20% {\n",
              "      border-color: transparent;\n",
              "      border-left-color: var(--fill-color);\n",
              "      border-top-color: var(--fill-color);\n",
              "    }\n",
              "    30% {\n",
              "      border-color: transparent;\n",
              "      border-left-color: var(--fill-color);\n",
              "      border-top-color: var(--fill-color);\n",
              "      border-right-color: var(--fill-color);\n",
              "    }\n",
              "    40% {\n",
              "      border-color: transparent;\n",
              "      border-right-color: var(--fill-color);\n",
              "      border-top-color: var(--fill-color);\n",
              "    }\n",
              "    60% {\n",
              "      border-color: transparent;\n",
              "      border-right-color: var(--fill-color);\n",
              "    }\n",
              "    80% {\n",
              "      border-color: transparent;\n",
              "      border-right-color: var(--fill-color);\n",
              "      border-bottom-color: var(--fill-color);\n",
              "    }\n",
              "    90% {\n",
              "      border-color: transparent;\n",
              "      border-bottom-color: var(--fill-color);\n",
              "    }\n",
              "  }\n",
              "</style>\n",
              "\n",
              "  <script>\n",
              "    async function quickchart(key) {\n",
              "      const quickchartButtonEl =\n",
              "        document.querySelector('#' + key + ' button');\n",
              "      quickchartButtonEl.disabled = true;  // To prevent multiple clicks.\n",
              "      quickchartButtonEl.classList.add('colab-df-spinner');\n",
              "      try {\n",
              "        const charts = await google.colab.kernel.invokeFunction(\n",
              "            'suggestCharts', [key], {});\n",
              "      } catch (error) {\n",
              "        console.error('Error during call to suggestCharts:', error);\n",
              "      }\n",
              "      quickchartButtonEl.classList.remove('colab-df-spinner');\n",
              "      quickchartButtonEl.classList.add('colab-df-quickchart-complete');\n",
              "    }\n",
              "    (() => {\n",
              "      let quickchartButtonEl =\n",
              "        document.querySelector('#df-e8678283-7039-48b7-bb75-7e918c1f7f55 button');\n",
              "      quickchartButtonEl.style.display =\n",
              "        google.colab.kernel.accessAllowed ? 'block' : 'none';\n",
              "    })();\n",
              "  </script>\n",
              "</div>\n",
              "    </div>\n",
              "  </div>\n"
            ]
          },
          "metadata": {},
          "execution_count": 4
        }
      ]
    },
    {
      "cell_type": "code",
      "source": [
        "df_train, df_test = train_test_split(df, random_state=42)\n",
        "vectorizer = TfidfVectorizer(max_features=2000)\n",
        "X_train = vectorizer.fit_transform(df_train['text'])\n",
        "X_test = vectorizer.transform(df_test['text'])\n",
        "# data must not be sparse matrix before passing into tensorflow\n",
        "X_train = X_train.toarray()\n",
        "X_test = X_test.toarray()\n",
        "Y_train = df_train['target']\n",
        "Y_test = df_test['target']\n",
        "# input dimensions\n",
        "D = X_train.shape[1]\n",
        "# build model\n",
        "i = Input(shape=(D,))\n",
        "x = Dense(1)(i) # sigmoid included in loss\n",
        "\n",
        "model = Model(i, x)\n",
        "model.summary()"
      ],
      "metadata": {
        "colab": {
          "base_uri": "https://localhost:8080/"
        },
        "id": "PAI4Y8ckZOuR",
        "outputId": "1a66bec9-1f0f-4be7-d5b1-39ef834fe75b"
      },
      "execution_count": 5,
      "outputs": [
        {
          "output_type": "stream",
          "name": "stdout",
          "text": [
            "Model: \"model\"\n",
            "_________________________________________________________________\n",
            " Layer (type)                Output Shape              Param #   \n",
            "=================================================================\n",
            " input_1 (InputLayer)        [(None, 2000)]            0         \n",
            "                                                                 \n",
            " dense (Dense)               (None, 1)                 2001      \n",
            "                                                                 \n",
            "=================================================================\n",
            "Total params: 2001 (7.82 KB)\n",
            "Trainable params: 2001 (7.82 KB)\n",
            "Non-trainable params: 0 (0.00 Byte)\n",
            "_________________________________________________________________\n"
          ]
        }
      ]
    },
    {
      "cell_type": "code",
      "source": [
        "X_train[0].shape"
      ],
      "metadata": {
        "colab": {
          "base_uri": "https://localhost:8080/"
        },
        "id": "0WsTmc_2a-1l",
        "outputId": "0043bb01-9708-4545-fe38-0496b7cff649"
      },
      "execution_count": 25,
      "outputs": [
        {
          "output_type": "execute_result",
          "data": {
            "text/plain": [
              "(2000,)"
            ]
          },
          "metadata": {},
          "execution_count": 25
        }
      ]
    },
    {
      "cell_type": "code",
      "source": [
        "model.compile(\n",
        "  loss=BinaryCrossentropy(from_logits=True),\n",
        "  optimizer=Adam(learning_rate=0.01),\n",
        "  metrics=['accuracy']\n",
        ")\n",
        "r = model.fit(\n",
        "  X_train, Y_train,\n",
        "  validation_data=(X_test, Y_test),\n",
        "  epochs=40,\n",
        "  batch_size=128,\n",
        ")"
      ],
      "metadata": {
        "colab": {
          "base_uri": "https://localhost:8080/"
        },
        "id": "M488YiwLZVoe",
        "outputId": "f9681bf9-88f3-4021-fd03-1181328c7e19"
      },
      "execution_count": 6,
      "outputs": [
        {
          "output_type": "stream",
          "name": "stdout",
          "text": [
            "Epoch 1/40\n",
            "68/68 [==============================] - 2s 8ms/step - loss: 0.5031 - accuracy: 0.7920 - val_loss: 0.3971 - val_accuracy: 0.8049\n",
            "Epoch 2/40\n",
            "68/68 [==============================] - 0s 4ms/step - loss: 0.3754 - accuracy: 0.7968 - val_loss: 0.3392 - val_accuracy: 0.8216\n",
            "Epoch 3/40\n",
            "68/68 [==============================] - 0s 3ms/step - loss: 0.3219 - accuracy: 0.8184 - val_loss: 0.3027 - val_accuracy: 0.8416\n",
            "Epoch 4/40\n",
            "68/68 [==============================] - 0s 4ms/step - loss: 0.2848 - accuracy: 0.8449 - val_loss: 0.2769 - val_accuracy: 0.8600\n",
            "Epoch 5/40\n",
            "68/68 [==============================] - 0s 3ms/step - loss: 0.2574 - accuracy: 0.8639 - val_loss: 0.2582 - val_accuracy: 0.8773\n",
            "Epoch 6/40\n",
            "68/68 [==============================] - 0s 3ms/step - loss: 0.2366 - accuracy: 0.8808 - val_loss: 0.2444 - val_accuracy: 0.8895\n",
            "Epoch 7/40\n",
            "68/68 [==============================] - 0s 3ms/step - loss: 0.2201 - accuracy: 0.8930 - val_loss: 0.2336 - val_accuracy: 0.9016\n",
            "Epoch 8/40\n",
            "68/68 [==============================] - 0s 3ms/step - loss: 0.2067 - accuracy: 0.9032 - val_loss: 0.2247 - val_accuracy: 0.9040\n",
            "Epoch 9/40\n",
            "68/68 [==============================] - 0s 3ms/step - loss: 0.1955 - accuracy: 0.9094 - val_loss: 0.2180 - val_accuracy: 0.9078\n",
            "Epoch 10/40\n",
            "68/68 [==============================] - 0s 3ms/step - loss: 0.1860 - accuracy: 0.9151 - val_loss: 0.2126 - val_accuracy: 0.9109\n",
            "Epoch 11/40\n",
            "68/68 [==============================] - 0s 3ms/step - loss: 0.1777 - accuracy: 0.9198 - val_loss: 0.2080 - val_accuracy: 0.9141\n",
            "Epoch 12/40\n",
            "68/68 [==============================] - 0s 3ms/step - loss: 0.1705 - accuracy: 0.9248 - val_loss: 0.2043 - val_accuracy: 0.9155\n",
            "Epoch 13/40\n",
            "68/68 [==============================] - 0s 3ms/step - loss: 0.1641 - accuracy: 0.9270 - val_loss: 0.2013 - val_accuracy: 0.9175\n",
            "Epoch 14/40\n",
            "68/68 [==============================] - 0s 3ms/step - loss: 0.1584 - accuracy: 0.9315 - val_loss: 0.1987 - val_accuracy: 0.9193\n",
            "Epoch 15/40\n",
            "68/68 [==============================] - 0s 3ms/step - loss: 0.1533 - accuracy: 0.9336 - val_loss: 0.1965 - val_accuracy: 0.9200\n",
            "Epoch 16/40\n",
            "68/68 [==============================] - 0s 3ms/step - loss: 0.1485 - accuracy: 0.9361 - val_loss: 0.1947 - val_accuracy: 0.9213\n",
            "Epoch 17/40\n",
            "68/68 [==============================] - 0s 3ms/step - loss: 0.1443 - accuracy: 0.9390 - val_loss: 0.1933 - val_accuracy: 0.9210\n",
            "Epoch 18/40\n",
            "68/68 [==============================] - 0s 3ms/step - loss: 0.1404 - accuracy: 0.9419 - val_loss: 0.1920 - val_accuracy: 0.9217\n",
            "Epoch 19/40\n",
            "68/68 [==============================] - 0s 3ms/step - loss: 0.1367 - accuracy: 0.9426 - val_loss: 0.1909 - val_accuracy: 0.9213\n",
            "Epoch 20/40\n",
            "68/68 [==============================] - 0s 4ms/step - loss: 0.1334 - accuracy: 0.9437 - val_loss: 0.1901 - val_accuracy: 0.9213\n",
            "Epoch 21/40\n",
            "68/68 [==============================] - 0s 3ms/step - loss: 0.1303 - accuracy: 0.9449 - val_loss: 0.1893 - val_accuracy: 0.9220\n",
            "Epoch 22/40\n",
            "68/68 [==============================] - 0s 4ms/step - loss: 0.1274 - accuracy: 0.9469 - val_loss: 0.1889 - val_accuracy: 0.9224\n",
            "Epoch 23/40\n",
            "68/68 [==============================] - 0s 4ms/step - loss: 0.1246 - accuracy: 0.9481 - val_loss: 0.1886 - val_accuracy: 0.9224\n",
            "Epoch 24/40\n",
            "68/68 [==============================] - 0s 3ms/step - loss: 0.1220 - accuracy: 0.9509 - val_loss: 0.1884 - val_accuracy: 0.9227\n",
            "Epoch 25/40\n",
            "68/68 [==============================] - 0s 3ms/step - loss: 0.1196 - accuracy: 0.9496 - val_loss: 0.1882 - val_accuracy: 0.9238\n",
            "Epoch 26/40\n",
            "68/68 [==============================] - 0s 3ms/step - loss: 0.1174 - accuracy: 0.9523 - val_loss: 0.1881 - val_accuracy: 0.9241\n",
            "Epoch 27/40\n",
            "68/68 [==============================] - 0s 3ms/step - loss: 0.1152 - accuracy: 0.9542 - val_loss: 0.1883 - val_accuracy: 0.9245\n",
            "Epoch 28/40\n",
            "68/68 [==============================] - 0s 3ms/step - loss: 0.1130 - accuracy: 0.9534 - val_loss: 0.1883 - val_accuracy: 0.9248\n",
            "Epoch 29/40\n",
            "68/68 [==============================] - 0s 3ms/step - loss: 0.1111 - accuracy: 0.9563 - val_loss: 0.1885 - val_accuracy: 0.9252\n",
            "Epoch 30/40\n",
            "68/68 [==============================] - 0s 3ms/step - loss: 0.1092 - accuracy: 0.9549 - val_loss: 0.1887 - val_accuracy: 0.9252\n",
            "Epoch 31/40\n",
            "68/68 [==============================] - 0s 3ms/step - loss: 0.1074 - accuracy: 0.9569 - val_loss: 0.1891 - val_accuracy: 0.9258\n",
            "Epoch 32/40\n",
            "68/68 [==============================] - 0s 4ms/step - loss: 0.1058 - accuracy: 0.9585 - val_loss: 0.1895 - val_accuracy: 0.9252\n",
            "Epoch 33/40\n",
            "68/68 [==============================] - 0s 3ms/step - loss: 0.1041 - accuracy: 0.9593 - val_loss: 0.1898 - val_accuracy: 0.9248\n",
            "Epoch 34/40\n",
            "68/68 [==============================] - 0s 3ms/step - loss: 0.1025 - accuracy: 0.9599 - val_loss: 0.1903 - val_accuracy: 0.9238\n",
            "Epoch 35/40\n",
            "68/68 [==============================] - 0s 3ms/step - loss: 0.1010 - accuracy: 0.9603 - val_loss: 0.1908 - val_accuracy: 0.9234\n",
            "Epoch 36/40\n",
            "68/68 [==============================] - 0s 3ms/step - loss: 0.0996 - accuracy: 0.9620 - val_loss: 0.1914 - val_accuracy: 0.9227\n",
            "Epoch 37/40\n",
            "68/68 [==============================] - 0s 3ms/step - loss: 0.0982 - accuracy: 0.9619 - val_loss: 0.1921 - val_accuracy: 0.9220\n",
            "Epoch 38/40\n",
            "68/68 [==============================] - 0s 3ms/step - loss: 0.0968 - accuracy: 0.9633 - val_loss: 0.1927 - val_accuracy: 0.9224\n",
            "Epoch 39/40\n",
            "68/68 [==============================] - 0s 3ms/step - loss: 0.0955 - accuracy: 0.9633 - val_loss: 0.1931 - val_accuracy: 0.9217\n",
            "Epoch 40/40\n",
            "68/68 [==============================] - 0s 3ms/step - loss: 0.0943 - accuracy: 0.9649 - val_loss: 0.1940 - val_accuracy: 0.9224\n"
          ]
        }
      ]
    },
    {
      "cell_type": "code",
      "source": [
        "plt.plot(r.history['loss'], label='train loss')\n",
        "plt.plot(r.history['val_loss'], label='val loss')\n",
        "plt.legend();\n",
        "\n",
        "# Plot accuracy per iteration\n",
        "plt.plot(r.history['accuracy'], label='train acc')\n",
        "plt.plot(r.history['val_accuracy'], label='val acc')\n",
        "plt.legend();\n",
        "\n",
        "P_train = ((model.predict(X_train) > 0) * 1.0).flatten()\n",
        "P_test = ((model.predict(X_test) > 0) * 1.0).flatten()\n",
        "cm = confusion_matrix(Y_train, P_train, normalize='true')\n",
        "cm"
      ],
      "metadata": {
        "colab": {
          "base_uri": "https://localhost:8080/",
          "height": 501
        },
        "id": "5xUYKyvfZeV5",
        "outputId": "9283bd49-e21d-4206-9e3c-0ac0a202dab1"
      },
      "execution_count": 7,
      "outputs": [
        {
          "output_type": "stream",
          "name": "stdout",
          "text": [
            "271/271 [==============================] - 1s 2ms/step\n",
            "91/91 [==============================] - 0s 3ms/step\n"
          ]
        },
        {
          "output_type": "execute_result",
          "data": {
            "text/plain": [
              "array([[0.99095551, 0.00904449],\n",
              "       [0.09833333, 0.90166667]])"
            ]
          },
          "metadata": {},
          "execution_count": 7
        },
        {
          "output_type": "display_data",
          "data": {
            "text/plain": [
              "<Figure size 640x480 with 1 Axes>"
            ],
            "image/png": "[encoded data removed]"
          },
          "metadata": {}
        }
      ]
    },
    {
      "cell_type": "code",
      "source": [
        "\n",
        "# Scikit-Learn is transitioning to V1 but it's not available on Colab\n",
        "# The changes modify how confusion matrices are plotted\n",
        "def plot_cm(cm):\n",
        "  classes = ['negative', 'positive']\n",
        "  df_cm = pd.DataFrame(cm, index=classes, columns=classes)\n",
        "  ax = sn.heatmap(df_cm, annot=True, fmt='g')\n",
        "  ax.set_xlabel(\"Predicted\")\n",
        "  ax.set_ylabel(\"Target\")\n",
        "\n",
        "plot_cm(cm)\n"
      ],
      "metadata": {
        "colab": {
          "base_uri": "https://localhost:8080/",
          "height": 449
        },
        "id": "CcfvSWFsZj1_",
        "outputId": "57e68a79-5de2-463c-e102-a6159e271508"
      },
      "execution_count": 9,
      "outputs": [
        {
          "output_type": "display_data",
          "data": {
            "text/plain": [
              "<Figure size 640x480 with 2 Axes>"
            ],
            "image/png": "[encoded data removed]"
          },
          "metadata": {}
        }
      ]
    },
    {
      "cell_type": "code",
      "source": [
        "\n",
        "cm_test = confusion_matrix(Y_test, P_test, normalize='true')\n",
        "plot_cm(cm_test)"
      ],
      "metadata": {
        "colab": {
          "base_uri": "https://localhost:8080/",
          "height": 449
        },
        "id": "fNwZA48RZnAn",
        "outputId": "1080724c-918c-4fd5-d6c3-fb0d6fb303cf"
      },
      "execution_count": 10,
      "outputs": [
        {
          "output_type": "display_data",
          "data": {
            "text/plain": [
              "<Figure size 640x480 with 2 Axes>"
            ],
            "image/png": "[encoded data removed]"
          },
          "metadata": {}
        }
      ]
    },
    {
      "cell_type": "code",
      "source": [
        "Pr_train = model.predict(X_train)\n",
        "Pr_test = model.predict(X_test)\n",
        "print(\"Train AUC:\", roc_auc_score(Y_train, Pr_train))\n",
        "print(\"Test AUC:\", roc_auc_score(Y_test, Pr_test))"
      ],
      "metadata": {
        "colab": {
          "base_uri": "https://localhost:8080/"
        },
        "id": "tyRKYzXdZpgI",
        "outputId": "0e4dfaa3-e219-47be-af4c-ffaef9a6f562"
      },
      "execution_count": 12,
      "outputs": [
        {
          "output_type": "stream",
          "name": "stdout",
          "text": [
            "271/271 [==============================] - 1s 4ms/step\n",
            "91/91 [==============================] - 0s 3ms/step\n",
            "Train AUC: 0.9950097252613663\n",
            "Test AUC: 0.9547837709093328\n"
          ]
        }
      ]
    },
    {
      "cell_type": "code",
      "source": [
        "print(\"Train F1:\", f1_score(Y_train, P_train))\n",
        "print(\"Test F1:\", f1_score(Y_test, P_test))"
      ],
      "metadata": {
        "colab": {
          "base_uri": "https://localhost:8080/"
        },
        "id": "NmPjuJ9SZzfN",
        "outputId": "12ffca32-e0d9-4cbf-b6e2-8a74c691268c"
      },
      "execution_count": 13,
      "outputs": [
        {
          "output_type": "stream",
          "name": "stdout",
          "text": [
            "Train F1: 0.9314203730272597\n",
            "Test F1: 0.7935909519321396\n"
          ]
        }
      ]
    },
    {
      "cell_type": "code",
      "source": [
        "model.layers"
      ],
      "metadata": {
        "colab": {
          "base_uri": "https://localhost:8080/"
        },
        "id": "BCpI4NAUZ1vZ",
        "outputId": "dfec5e74-3330-4f42-e968-ec21683a5cf0"
      },
      "execution_count": 14,
      "outputs": [
        {
          "output_type": "execute_result",
          "data": {
            "text/plain": [
              "[<keras.src.engine.input_layer.InputLayer at 0x7c8ab6625390>,\n",
              " <keras.src.layers.core.dense.Dense at 0x7c8ab6625810>]"
            ]
          },
          "metadata": {},
          "execution_count": 14
        }
      ]
    },
    {
      "cell_type": "code",
      "source": [
        "model.layers[1].get_weights()"
      ],
      "metadata": {
        "colab": {
          "base_uri": "https://localhost:8080/"
        },
        "id": "0M9TzB3_Z6Vf",
        "outputId": "8cb85484-7b32-460a-f5bd-615de3f26178"
      },
      "execution_count": 15,
      "outputs": [
        {
          "output_type": "execute_result",
          "data": {
            "text/plain": [
              "[array([[-3.7609935],\n",
              "        [ 3.2619014],\n",
              "        [-1.575438 ],\n",
              "        ...,\n",
              "        [ 2.031299 ],\n",
              "        [ 1.6112697],\n",
              "        [-2.9457211]], dtype=float32),\n",
              " array([-0.24985027], dtype=float32)]"
            ]
          },
          "metadata": {},
          "execution_count": 15
        }
      ]
    },
    {
      "cell_type": "code",
      "source": [
        "model.layers[1].get_weights()"
      ],
      "metadata": {
        "id": "udKMIAAqaAtM"
      },
      "execution_count": null,
      "outputs": []
    },
    {
      "cell_type": "code",
      "source": [
        "word_index_map = vectorizer.vocabulary_"
      ],
      "metadata": {
        "id": "VHcmoCT-aC7H"
      },
      "execution_count": 21,
      "outputs": []
    },
    {
      "cell_type": "code",
      "source": [
        "# let's look at the weights for each word\n",
        "# try it with different threshold values!\n",
        "threshold = 2\n",
        "w = model.layers[1].get_weights()[0]\n",
        "print(\"Most positive words:\")\n",
        "word_weight_tuples = []\n",
        "for word, index in word_index_map.items():\n",
        "    weight = w[index, 0]\n",
        "    if weight > threshold:\n",
        "        word_weight_tuples.append((word, weight))\n",
        "\n",
        "word_weight_tuples = sorted(word_weight_tuples, key=lambda x: -x[1])\n",
        "for i in range(10):\n",
        "  word, weight = word_weight_tuples[i]\n",
        "  print(word, weight)"
      ],
      "metadata": {
        "colab": {
          "base_uri": "https://localhost:8080/"
        },
        "id": "1omuelplaJIY",
        "outputId": "cb956268-acb5-499f-81f9-ebf97a14540a"
      },
      "execution_count": 19,
      "outputs": [
        {
          "output_type": "stream",
          "name": "stdout",
          "text": [
            "Most positive words:\n",
            "thank 9.734361\n",
            "thanks 9.3618765\n",
            "worries 8.367716\n",
            "great 7.937261\n",
            "awesome 7.4042974\n",
            "love 7.255451\n",
            "excellent 7.1505775\n",
            "kudos 6.7093935\n",
            "amazing 6.4700847\n",
            "best 6.133288\n"
          ]
        }
      ]
    },
    {
      "cell_type": "code",
      "source": [
        "print(\"Most negative words:\")\n",
        "word_weight_tuples = []\n",
        "for word, index in word_index_map.items():\n",
        "    weight = w[index, 0]\n",
        "    if weight < -threshold:\n",
        "        word_weight_tuples.append((word, weight))\n",
        "\n",
        "word_weight_tuples = sorted(word_weight_tuples, key=lambda x: x[1])\n",
        "for i in range(10):\n",
        "  word, weight = word_weight_tuples[i]\n",
        "  print(word, weight)"
      ],
      "metadata": {
        "colab": {
          "base_uri": "https://localhost:8080/"
        },
        "id": "wc3BuzHKaMVt",
        "outputId": "fb024cb4-a62e-4f61-85ac-291d75551cea"
      },
      "execution_count": 20,
      "outputs": [
        {
          "output_type": "stream",
          "name": "stdout",
          "text": [
            "Most negative words:\n",
            "worst -9.327701\n",
            "paid -7.738374\n",
            "not -7.630925\n",
            "rude -7.5426\n",
            "disappointed -7.222558\n",
            "website -6.8245916\n",
            "nothing -6.7936497\n",
            "hung -6.707644\n",
            "instead -6.587882\n",
            "worse -6.223291\n"
          ]
        }
      ]
    },
    {
      "cell_type": "code",
      "source": [],
      "metadata": {
        "id": "iZiuQny5apYa"
      },
      "execution_count": null,
      "outputs": []
    }
  ]
}